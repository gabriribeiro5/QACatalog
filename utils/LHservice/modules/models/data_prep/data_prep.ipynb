{
 "cells": [
  {
   "cell_type": "code",
   "execution_count": 1,
   "id": "caf1142f",
   "metadata": {},
   "outputs": [],
   "source": [
    "import os\n",
    "import pandas as pd\n",
    "import numpy as np\n",
    "import datetime\n",
    "import math\n",
    "import io\n",
    "import boto3\n",
    "import json\n",
    "import dask.dataframe as dd\n",
    "from pyspark.sql import functions\n",
    "import awswrangler as wr\n",
    "from sqlalchemy import create_engine\n",
    "from sqlalchemy.pool import NullPool\n",
    "from concurrent.futures import ThreadPoolExecutor\n",
    "from pandas.tseries.offsets import MonthEnd, MonthBegin"
   ]
  },
  {
   "cell_type": "markdown",
   "id": "76404d6e",
   "metadata": {},
   "source": [
    "#### Formatação de datas pra pegar os parquets do mês atual e anterior da tabela payments"
   ]
  },
  {
   "cell_type": "code",
   "execution_count": 2,
   "id": "e5faec04",
   "metadata": {},
   "outputs": [],
   "source": [
    "today = datetime.date.today()\n",
    "dateLastMonth = today.replace(day=1) - datetime.timedelta(days=1)\n",
    "month = today.strftime(\"%m\")\n",
    "monthYear = today.strftime(\"%Y%m\")\n",
    "yearMonth = today.strftime(\"%Y\")\n",
    "lastMonth = dateLastMonth.strftime(\"%m\")\n",
    "yearLastMonth = dateLastMonth.strftime(\"%Y\")\n",
    "lastMonthYear = dateLastMonth.strftime(\"%Y%m\")"
   ]
  },
  {
   "cell_type": "code",
   "execution_count": 3,
   "id": "52a089e9",
   "metadata": {},
   "outputs": [],
   "source": [
    "#teste\n",
    "month = \"10\"\n",
    "lastMonth = \"09\"\n",
    "yearMonth = \"2021\""
   ]
  },
  {
   "cell_type": "code",
   "execution_count": 4,
   "id": "1b56d817",
   "metadata": {},
   "outputs": [],
   "source": [
    "dtMonthPayments = dd.read_parquet('s3://dlr-dev-bucket-refinedzone/pic/datamart/payments/year='+yearMonth+'/month='+month+'/').compute()"
   ]
  },
  {
   "cell_type": "code",
   "execution_count": 5,
   "id": "bfb2b6fc",
   "metadata": {},
   "outputs": [],
   "source": [
    "dtLastMonthPayments = dd.read_parquet('s3://dlr-dev-bucket-refinedzone/pic/datamart/payments/year='+yearMonth+'/month='+lastMonth+'/').compute()"
   ]
  },
  {
   "cell_type": "code",
   "execution_count": 6,
   "id": "ff9f76c2",
   "metadata": {},
   "outputs": [],
   "source": [
    "payments = pd.concat([dtMonthPayments, dtLastMonthPayments], ignore_index=True)"
   ]
  },
  {
   "cell_type": "code",
   "execution_count": 7,
   "id": "94a0a200",
   "metadata": {},
   "outputs": [],
   "source": [
    "del dtLastMonthPayments, dtMonthPayments"
   ]
  },
  {
   "cell_type": "code",
   "execution_count": 8,
   "id": "cc3cbfa1",
   "metadata": {},
   "outputs": [],
   "source": [
    "AssignmentsOptimizationRestrictive = dd.read_parquet('s3://dlr-dev-bucket-rawzone/pic/datascience/assignmentsoptimizationrestrictive/AssignmentsOptimizationRestrictive.parquet').compute()\n"
   ]
  },
  {
   "cell_type": "code",
   "execution_count": 9,
   "id": "8bdef9a6",
   "metadata": {},
   "outputs": [],
   "source": [
    "AssignmentsOptimizationRestrictiveSegments = pd.read_parquet('s3://dlr-dev-bucket-rawzone/pic/datascience/assignmentsoptimizationrestrictivesegments/AssignmentsOptimizationRestrictiveSegments.parquet')"
   ]
  },
  {
   "cell_type": "code",
   "execution_count": 10,
   "id": "7241c10d",
   "metadata": {},
   "outputs": [
    {
     "data": {
      "text/html": [
       "<div>\n",
       "<style scoped>\n",
       "    .dataframe tbody tr th:only-of-type {\n",
       "        vertical-align: middle;\n",
       "    }\n",
       "\n",
       "    .dataframe tbody tr th {\n",
       "        vertical-align: top;\n",
       "    }\n",
       "\n",
       "    .dataframe thead th {\n",
       "        text-align: right;\n",
       "    }\n",
       "</style>\n",
       "<table border=\"1\" class=\"dataframe\">\n",
       "  <thead>\n",
       "    <tr style=\"text-align: right;\">\n",
       "      <th></th>\n",
       "      <th>SegmentID</th>\n",
       "      <th>Segment</th>\n",
       "      <th>CreationDate</th>\n",
       "      <th>isEnabled</th>\n",
       "    </tr>\n",
       "  </thead>\n",
       "  <tbody>\n",
       "    <tr>\n",
       "      <th>0</th>\n",
       "      <td>1</td>\n",
       "      <td>Agibank</td>\n",
       "      <td>2021-09-28 09:14:05.910</td>\n",
       "      <td>True</td>\n",
       "    </tr>\n",
       "    <tr>\n",
       "      <th>1</th>\n",
       "      <td>2</td>\n",
       "      <td>Aymore</td>\n",
       "      <td>2021-09-28 09:14:05.910</td>\n",
       "      <td>True</td>\n",
       "    </tr>\n",
       "    <tr>\n",
       "      <th>2</th>\n",
       "      <td>3</td>\n",
       "      <td>BancoPan</td>\n",
       "      <td>2021-09-28 09:14:05.910</td>\n",
       "      <td>True</td>\n",
       "    </tr>\n",
       "    <tr>\n",
       "      <th>3</th>\n",
       "      <td>4</td>\n",
       "      <td>Bradesco-Banco</td>\n",
       "      <td>2021-09-28 09:14:05.910</td>\n",
       "      <td>True</td>\n",
       "    </tr>\n",
       "    <tr>\n",
       "      <th>4</th>\n",
       "      <td>5</td>\n",
       "      <td>Bradesco-BBF</td>\n",
       "      <td>2021-09-28 09:14:05.910</td>\n",
       "      <td>True</td>\n",
       "    </tr>\n",
       "  </tbody>\n",
       "</table>\n",
       "</div>"
      ],
      "text/plain": [
       "   SegmentID         Segment            CreationDate  isEnabled\n",
       "0          1         Agibank 2021-09-28 09:14:05.910       True\n",
       "1          2          Aymore 2021-09-28 09:14:05.910       True\n",
       "2          3        BancoPan 2021-09-28 09:14:05.910       True\n",
       "3          4  Bradesco-Banco 2021-09-28 09:14:05.910       True\n",
       "4          5    Bradesco-BBF 2021-09-28 09:14:05.910       True"
      ]
     },
     "execution_count": 10,
     "metadata": {},
     "output_type": "execute_result"
    }
   ],
   "source": [
    "AssignmentsOptimizationRestrictiveSegments.head()"
   ]
  },
  {
   "cell_type": "code",
   "execution_count": 11,
   "id": "fb63ee02",
   "metadata": {},
   "outputs": [],
   "source": [
    "AssignmentsOptimizationRestrictivePortfolios = pd.read_parquet('s3://dlr-dev-bucket-rawzone/pic/datascience/assignmentsoptimizationrestrictiveportfolios/AssignmentsOptimizationRestrictivePortfolios.parquet')"
   ]
  },
  {
   "cell_type": "code",
   "execution_count": 12,
   "id": "6a62f883",
   "metadata": {},
   "outputs": [
    {
     "data": {
      "text/html": [
       "<div>\n",
       "<style scoped>\n",
       "    .dataframe tbody tr th:only-of-type {\n",
       "        vertical-align: middle;\n",
       "    }\n",
       "\n",
       "    .dataframe tbody tr th {\n",
       "        vertical-align: top;\n",
       "    }\n",
       "\n",
       "    .dataframe thead th {\n",
       "        text-align: right;\n",
       "    }\n",
       "</style>\n",
       "<table border=\"1\" class=\"dataframe\">\n",
       "  <thead>\n",
       "    <tr style=\"text-align: right;\">\n",
       "      <th></th>\n",
       "      <th>ID</th>\n",
       "      <th>SegmentID</th>\n",
       "      <th>PortfolioID</th>\n",
       "      <th>CreationDate</th>\n",
       "      <th>isEnabled</th>\n",
       "      <th>ResponsableName</th>\n",
       "    </tr>\n",
       "  </thead>\n",
       "  <tbody>\n",
       "    <tr>\n",
       "      <th>57</th>\n",
       "      <td>58</td>\n",
       "      <td>46</td>\n",
       "      <td>114</td>\n",
       "      <td>2021-12-27 15:50:22.033</td>\n",
       "      <td>True</td>\n",
       "      <td>Pedro Granero</td>\n",
       "    </tr>\n",
       "    <tr>\n",
       "      <th>58</th>\n",
       "      <td>59</td>\n",
       "      <td>47</td>\n",
       "      <td>115</td>\n",
       "      <td>2021-12-27 15:50:22.033</td>\n",
       "      <td>True</td>\n",
       "      <td>Pedro Granero</td>\n",
       "    </tr>\n",
       "    <tr>\n",
       "      <th>59</th>\n",
       "      <td>60</td>\n",
       "      <td>48</td>\n",
       "      <td>116</td>\n",
       "      <td>2021-12-27 15:50:22.033</td>\n",
       "      <td>True</td>\n",
       "      <td>Pedro Granero</td>\n",
       "    </tr>\n",
       "    <tr>\n",
       "      <th>60</th>\n",
       "      <td>61</td>\n",
       "      <td>49</td>\n",
       "      <td>117</td>\n",
       "      <td>2021-12-27 15:50:22.033</td>\n",
       "      <td>True</td>\n",
       "      <td>Pedro Granero</td>\n",
       "    </tr>\n",
       "    <tr>\n",
       "      <th>61</th>\n",
       "      <td>62</td>\n",
       "      <td>50</td>\n",
       "      <td>118</td>\n",
       "      <td>2021-12-27 15:50:22.033</td>\n",
       "      <td>True</td>\n",
       "      <td>Pedro Granero</td>\n",
       "    </tr>\n",
       "  </tbody>\n",
       "</table>\n",
       "</div>"
      ],
      "text/plain": [
       "    ID  SegmentID  PortfolioID            CreationDate  isEnabled  \\\n",
       "57  58         46          114 2021-12-27 15:50:22.033       True   \n",
       "58  59         47          115 2021-12-27 15:50:22.033       True   \n",
       "59  60         48          116 2021-12-27 15:50:22.033       True   \n",
       "60  61         49          117 2021-12-27 15:50:22.033       True   \n",
       "61  62         50          118 2021-12-27 15:50:22.033       True   \n",
       "\n",
       "   ResponsableName  \n",
       "57   Pedro Granero  \n",
       "58   Pedro Granero  \n",
       "59   Pedro Granero  \n",
       "60   Pedro Granero  \n",
       "61   Pedro Granero  "
      ]
     },
     "execution_count": 12,
     "metadata": {},
     "output_type": "execute_result"
    }
   ],
   "source": [
    "AssignmentsOptimizationRestrictivePortfolios.tail()"
   ]
  },
  {
   "cell_type": "code",
   "execution_count": 13,
   "id": "1443a92d",
   "metadata": {},
   "outputs": [],
   "source": [
    "businessUnits = dd.read_parquet('s3://dlr-dev-bucket-rawzone/pic/ftcrm/businessunits/*.parquet').compute()"
   ]
  },
  {
   "cell_type": "code",
   "execution_count": 14,
   "id": "60380f39",
   "metadata": {},
   "outputs": [],
   "source": [
    "businessUnits = businessUnits.rename(columns={\"businessunitid\":\"AgencyID\"})"
   ]
  },
  {
   "cell_type": "markdown",
   "id": "8cb04e81",
   "metadata": {},
   "source": [
    "### Definição das datas necessárias pra análise"
   ]
  },
  {
   "cell_type": "code",
   "execution_count": 15,
   "id": "c8d51c9a",
   "metadata": {},
   "outputs": [],
   "source": [
    "today = datetime.date.today()\n",
    "reference_date = today - MonthBegin() # mÊs atual\n",
    "optimization_month = reference_date + MonthBegin() # próximo mês"
   ]
  },
  {
   "cell_type": "code",
   "execution_count": 16,
   "id": "66d75aa1",
   "metadata": {},
   "outputs": [],
   "source": [
    "mes_atual = optimization_month - MonthBegin()\n",
    "mes_anterior = mes_atual - MonthBegin()\n",
    "cuts_age = [0, 5, 10, math.inf]"
   ]
  },
  {
   "cell_type": "code",
   "execution_count": 17,
   "id": "ad5e9651",
   "metadata": {},
   "outputs": [],
   "source": [
    "mes_atual = pd.to_datetime(mes_atual, format=\"%Y-%m-%d\")\n",
    "mes_anterior = pd.to_datetime(mes_anterior, format=\"%Y-%m-%d\")\n"
   ]
  },
  {
   "cell_type": "code",
   "execution_count": 18,
   "id": "9a00e2ab",
   "metadata": {},
   "outputs": [],
   "source": [
    "#teste\n",
    "mes_anterior = pd.to_datetime('2021-09-01', format=\"%Y-%m-%d\")\n",
    "mes_atual = pd.to_datetime('2021-10-01', format=\"%Y-%m-%d\")"
   ]
  },
  {
   "cell_type": "markdown",
   "id": "8da069d7",
   "metadata": {},
   "source": [
    "### Carrega o nome das agências"
   ]
  },
  {
   "cell_type": "code",
   "execution_count": 19,
   "id": "76c61687",
   "metadata": {},
   "outputs": [],
   "source": [
    "agency = businessUnits[[\"AgencyID\", \"name\", \"alias\"]]"
   ]
  },
  {
   "cell_type": "code",
   "execution_count": 20,
   "id": "5e795479",
   "metadata": {},
   "outputs": [],
   "source": [
    "agency = agency.rename(columns={'AgencyID': 'agency_id'})"
   ]
  },
  {
   "cell_type": "code",
   "execution_count": 21,
   "id": "240580bc",
   "metadata": {},
   "outputs": [
    {
     "data": {
      "text/html": [
       "<div>\n",
       "<style scoped>\n",
       "    .dataframe tbody tr th:only-of-type {\n",
       "        vertical-align: middle;\n",
       "    }\n",
       "\n",
       "    .dataframe tbody tr th {\n",
       "        vertical-align: top;\n",
       "    }\n",
       "\n",
       "    .dataframe thead th {\n",
       "        text-align: right;\n",
       "    }\n",
       "</style>\n",
       "<table border=\"1\" class=\"dataframe\">\n",
       "  <thead>\n",
       "    <tr style=\"text-align: right;\">\n",
       "      <th></th>\n",
       "      <th>agency_id</th>\n",
       "      <th>name</th>\n",
       "      <th>alias</th>\n",
       "    </tr>\n",
       "  </thead>\n",
       "  <tbody>\n",
       "    <tr>\n",
       "      <th>0</th>\n",
       "      <td>1</td>\n",
       "      <td>Hoepers</td>\n",
       "      <td>HOE01</td>\n",
       "    </tr>\n",
       "    <tr>\n",
       "      <th>1</th>\n",
       "      <td>5</td>\n",
       "      <td>ASS 001</td>\n",
       "      <td>1</td>\n",
       "    </tr>\n",
       "    <tr>\n",
       "      <th>2</th>\n",
       "      <td>6</td>\n",
       "      <td>CONTRATO</td>\n",
       "      <td>9</td>\n",
       "    </tr>\n",
       "    <tr>\n",
       "      <th>3</th>\n",
       "      <td>7</td>\n",
       "      <td>QUALITY</td>\n",
       "      <td>18</td>\n",
       "    </tr>\n",
       "    <tr>\n",
       "      <th>4</th>\n",
       "      <td>8</td>\n",
       "      <td>INTERVAL</td>\n",
       "      <td>74</td>\n",
       "    </tr>\n",
       "  </tbody>\n",
       "</table>\n",
       "</div>"
      ],
      "text/plain": [
       "   agency_id      name  alias\n",
       "0          1   Hoepers  HOE01\n",
       "1          5  ASS 001       1\n",
       "2          6  CONTRATO      9\n",
       "3          7  QUALITY      18\n",
       "4          8  INTERVAL     74"
      ]
     },
     "execution_count": 21,
     "metadata": {},
     "output_type": "execute_result"
    }
   ],
   "source": [
    "agency.head()"
   ]
  },
  {
   "cell_type": "markdown",
   "id": "0f85753b",
   "metadata": {},
   "source": [
    "###  Listando portfolio ativos e com  AccountOwnerID = 672"
   ]
  },
  {
   "cell_type": "code",
   "execution_count": 22,
   "id": "0bb117f3",
   "metadata": {},
   "outputs": [],
   "source": [
    "portfolio_ids__enabled = AssignmentsOptimizationRestrictivePortfolios[AssignmentsOptimizationRestrictivePortfolios.isEnabled == 1][[\"PortfolioID\"]]"
   ]
  },
  {
   "cell_type": "code",
   "execution_count": 23,
   "id": "58eeccf2",
   "metadata": {},
   "outputs": [],
   "source": [
    "portfolio_ids__enabled.sort_values(by=['PortfolioID'], inplace=True)"
   ]
  },
  {
   "cell_type": "code",
   "execution_count": 24,
   "id": "aa46d697",
   "metadata": {},
   "outputs": [
    {
     "data": {
      "text/html": [
       "<div>\n",
       "<style scoped>\n",
       "    .dataframe tbody tr th:only-of-type {\n",
       "        vertical-align: middle;\n",
       "    }\n",
       "\n",
       "    .dataframe tbody tr th {\n",
       "        vertical-align: top;\n",
       "    }\n",
       "\n",
       "    .dataframe thead th {\n",
       "        text-align: right;\n",
       "    }\n",
       "</style>\n",
       "<table border=\"1\" class=\"dataframe\">\n",
       "  <thead>\n",
       "    <tr style=\"text-align: right;\">\n",
       "      <th></th>\n",
       "      <th>PortfolioID</th>\n",
       "    </tr>\n",
       "  </thead>\n",
       "  <tbody>\n",
       "    <tr>\n",
       "      <th>27</th>\n",
       "      <td>46</td>\n",
       "    </tr>\n",
       "    <tr>\n",
       "      <th>33</th>\n",
       "      <td>47</td>\n",
       "    </tr>\n",
       "    <tr>\n",
       "      <th>20</th>\n",
       "      <td>48</td>\n",
       "    </tr>\n",
       "    <tr>\n",
       "      <th>21</th>\n",
       "      <td>49</td>\n",
       "    </tr>\n",
       "    <tr>\n",
       "      <th>34</th>\n",
       "      <td>52</td>\n",
       "    </tr>\n",
       "  </tbody>\n",
       "</table>\n",
       "</div>"
      ],
      "text/plain": [
       "    PortfolioID\n",
       "27           46\n",
       "33           47\n",
       "20           48\n",
       "21           49\n",
       "34           52"
      ]
     },
     "execution_count": 24,
     "metadata": {},
     "output_type": "execute_result"
    }
   ],
   "source": [
    "portfolio_ids__enabled.head()"
   ]
  },
  {
   "cell_type": "code",
   "execution_count": 25,
   "id": "6d85b5e4",
   "metadata": {},
   "outputs": [],
   "source": [
    "portifolios = portfolio_ids__enabled[\"PortfolioID\"].tolist()"
   ]
  },
  {
   "cell_type": "markdown",
   "id": "afe3196e",
   "metadata": {},
   "source": [
    "### Seleciona dividas que não estão com acordos ativos \n",
    "#### As dividas que possuem acordos ativos são marcadas com bindingid not NULL, bindingid é usado para direcionar dívidas para as diferentes agencias"
   ]
  },
  {
   "cell_type": "code",
   "execution_count": 26,
   "id": "f049bc90",
   "metadata": {},
   "outputs": [],
   "source": [
    "debtcontacts_bindingid_null = dd.read_parquet('s3://dlr-dev-bucket-refinedzone/pic/datamart/debtcontacts/part*.parquet', columns=[\"DebtID\",\"DebtStatus\",\"BindingID\", \"AccountOwnerID\"]).compute()"
   ]
  },
  {
   "cell_type": "code",
   "execution_count": 27,
   "id": "71ccb4dd",
   "metadata": {},
   "outputs": [],
   "source": [
    "debt_bindingid_null = debtcontacts_bindingid_null[(debtcontacts_bindingid_null.BindingID.isnull()) & (debtcontacts_bindingid_null.AccountOwnerID == 672)]"
   ]
  },
  {
   "cell_type": "code",
   "execution_count": 28,
   "id": "b30273b6",
   "metadata": {},
   "outputs": [],
   "source": [
    "debt_bindingid_null = debt_bindingid_null.rename(columns={'DebtID': 'debt_id', 'DebtStatus': 'status'})"
   ]
  },
  {
   "cell_type": "code",
   "execution_count": 29,
   "id": "9d2bef3d",
   "metadata": {},
   "outputs": [
    {
     "data": {
      "text/html": [
       "<div>\n",
       "<style scoped>\n",
       "    .dataframe tbody tr th:only-of-type {\n",
       "        vertical-align: middle;\n",
       "    }\n",
       "\n",
       "    .dataframe tbody tr th {\n",
       "        vertical-align: top;\n",
       "    }\n",
       "\n",
       "    .dataframe thead th {\n",
       "        text-align: right;\n",
       "    }\n",
       "</style>\n",
       "<table border=\"1\" class=\"dataframe\">\n",
       "  <thead>\n",
       "    <tr style=\"text-align: right;\">\n",
       "      <th></th>\n",
       "      <th>debt_id</th>\n",
       "      <th>status</th>\n",
       "      <th>BindingID</th>\n",
       "      <th>AccountOwnerID</th>\n",
       "    </tr>\n",
       "  </thead>\n",
       "  <tbody>\n",
       "    <tr>\n",
       "      <th>182145</th>\n",
       "      <td>14070125.0</td>\n",
       "      <td>NaN</td>\n",
       "      <td>NaN</td>\n",
       "      <td>672.0</td>\n",
       "    </tr>\n",
       "  </tbody>\n",
       "</table>\n",
       "</div>"
      ],
      "text/plain": [
       "           debt_id  status  BindingID  AccountOwnerID\n",
       "182145  14070125.0     NaN        NaN           672.0"
      ]
     },
     "execution_count": 29,
     "metadata": {},
     "output_type": "execute_result"
    }
   ],
   "source": [
    "debt_bindingid_null.head()"
   ]
  },
  {
   "cell_type": "markdown",
   "id": "f879d9db",
   "metadata": {},
   "source": [
    "### Seleciona dividas ajuizadas \n",
    "##### Dívidas ajuizadas não devem ser cobradas"
   ]
  },
  {
   "cell_type": "code",
   "execution_count": 30,
   "id": "afbc597e",
   "metadata": {},
   "outputs": [],
   "source": [
    "debtcontacts = dd.read_parquet('s3://dlr-dev-bucket-refinedzone/pic/datamart/debtcontacts/part*.parquet', columns=[\"Assets\",\"Liabilities\", \"CustomerID\", \"AccountOwnerID\", \"DebtStatus\"]).compute()"
   ]
  },
  {
   "cell_type": "code",
   "execution_count": 31,
   "id": "6d0c3394",
   "metadata": {},
   "outputs": [],
   "source": [
    "customer_ajuizado = debtcontacts[(debtcontacts.AccountOwnerID == 672) & (debtcontacts.DebtStatus == 7000) & ((debtcontacts.Assets == 1) | (debtcontacts.Liabilities == 1))]"
   ]
  },
  {
   "cell_type": "code",
   "execution_count": 32,
   "id": "89f14367",
   "metadata": {},
   "outputs": [],
   "source": [
    "del debtcontacts"
   ]
  },
  {
   "cell_type": "code",
   "execution_count": 33,
   "id": "73395d56",
   "metadata": {},
   "outputs": [],
   "source": [
    "customer_ajuizado = customer_ajuizado.rename(columns={'Assets': 'assets', 'Liabilities': 'liabilities',\"CustomerID\": \"customer_id\"})"
   ]
  },
  {
   "cell_type": "code",
   "execution_count": 34,
   "id": "78375766",
   "metadata": {},
   "outputs": [],
   "source": [
    "customer_ajuizado = customer_ajuizado.groupby(\"customer_id\", as_index = False)[[\"assets\", \"liabilities\" ]].max()"
   ]
  },
  {
   "cell_type": "markdown",
   "id": "0c859c36",
   "metadata": {},
   "source": [
    "### Verifica as agências que estão habilitadas receber dívidas"
   ]
  },
  {
   "cell_type": "code",
   "execution_count": 35,
   "id": "f9ffa44b",
   "metadata": {},
   "outputs": [
    {
     "data": {
      "text/html": [
       "<div>\n",
       "<style scoped>\n",
       "    .dataframe tbody tr th:only-of-type {\n",
       "        vertical-align: middle;\n",
       "    }\n",
       "\n",
       "    .dataframe tbody tr th {\n",
       "        vertical-align: top;\n",
       "    }\n",
       "\n",
       "    .dataframe thead th {\n",
       "        text-align: right;\n",
       "    }\n",
       "</style>\n",
       "<table border=\"1\" class=\"dataframe\">\n",
       "  <thead>\n",
       "    <tr style=\"text-align: right;\">\n",
       "      <th></th>\n",
       "      <th>ID</th>\n",
       "      <th>SegmentID</th>\n",
       "      <th>AgencyID</th>\n",
       "      <th>ReferenceBalance</th>\n",
       "      <th>AvailableBalance</th>\n",
       "      <th>DistributionDate</th>\n",
       "      <th>isEnabled</th>\n",
       "      <th>MinValue</th>\n",
       "      <th>MaxValue</th>\n",
       "      <th>EnforcedFlag</th>\n",
       "    </tr>\n",
       "  </thead>\n",
       "  <tbody>\n",
       "    <tr>\n",
       "      <th>0</th>\n",
       "      <td>1</td>\n",
       "      <td>1</td>\n",
       "      <td>185</td>\n",
       "      <td>1.206874e+08</td>\n",
       "      <td>18036391.62</td>\n",
       "      <td>2021-10-01</td>\n",
       "      <td>True</td>\n",
       "      <td>NaN</td>\n",
       "      <td>NaN</td>\n",
       "      <td>False</td>\n",
       "    </tr>\n",
       "    <tr>\n",
       "      <th>1</th>\n",
       "      <td>2</td>\n",
       "      <td>1</td>\n",
       "      <td>519</td>\n",
       "      <td>0.000000e+00</td>\n",
       "      <td>0.00</td>\n",
       "      <td>2021-10-01</td>\n",
       "      <td>True</td>\n",
       "      <td>NaN</td>\n",
       "      <td>NaN</td>\n",
       "      <td>False</td>\n",
       "    </tr>\n",
       "    <tr>\n",
       "      <th>2</th>\n",
       "      <td>3</td>\n",
       "      <td>1</td>\n",
       "      <td>571</td>\n",
       "      <td>2.842417e+07</td>\n",
       "      <td>7398771.38</td>\n",
       "      <td>2021-10-01</td>\n",
       "      <td>True</td>\n",
       "      <td>NaN</td>\n",
       "      <td>NaN</td>\n",
       "      <td>False</td>\n",
       "    </tr>\n",
       "    <tr>\n",
       "      <th>3</th>\n",
       "      <td>4</td>\n",
       "      <td>1</td>\n",
       "      <td>640</td>\n",
       "      <td>1.369426e+07</td>\n",
       "      <td>13694257.56</td>\n",
       "      <td>2021-10-01</td>\n",
       "      <td>False</td>\n",
       "      <td>NaN</td>\n",
       "      <td>NaN</td>\n",
       "      <td>False</td>\n",
       "    </tr>\n",
       "    <tr>\n",
       "      <th>4</th>\n",
       "      <td>5</td>\n",
       "      <td>1</td>\n",
       "      <td>652</td>\n",
       "      <td>1.336905e+04</td>\n",
       "      <td>13369.05</td>\n",
       "      <td>2021-10-01</td>\n",
       "      <td>True</td>\n",
       "      <td>NaN</td>\n",
       "      <td>NaN</td>\n",
       "      <td>False</td>\n",
       "    </tr>\n",
       "  </tbody>\n",
       "</table>\n",
       "</div>"
      ],
      "text/plain": [
       "   ID  SegmentID  AgencyID  ReferenceBalance  AvailableBalance  \\\n",
       "0   1          1       185      1.206874e+08       18036391.62   \n",
       "1   2          1       519      0.000000e+00              0.00   \n",
       "2   3          1       571      2.842417e+07        7398771.38   \n",
       "3   4          1       640      1.369426e+07       13694257.56   \n",
       "4   5          1       652      1.336905e+04          13369.05   \n",
       "\n",
       "  DistributionDate  isEnabled  MinValue  MaxValue  EnforcedFlag  \n",
       "0       2021-10-01       True       NaN       NaN         False  \n",
       "1       2021-10-01       True       NaN       NaN         False  \n",
       "2       2021-10-01       True       NaN       NaN         False  \n",
       "3       2021-10-01      False       NaN       NaN         False  \n",
       "4       2021-10-01       True       NaN       NaN         False  "
      ]
     },
     "execution_count": 35,
     "metadata": {},
     "output_type": "execute_result"
    }
   ],
   "source": [
    "AssignmentsOptimizationRestrictive.head()"
   ]
  },
  {
   "cell_type": "code",
   "execution_count": 36,
   "id": "e03ad0c5",
   "metadata": {},
   "outputs": [],
   "source": [
    "segment_restriction = pd.merge(AssignmentsOptimizationRestrictiveSegments, AssignmentsOptimizationRestrictive, on=\"SegmentID\")"
   ]
  },
  {
   "cell_type": "code",
   "execution_count": 37,
   "id": "b934ae9b",
   "metadata": {},
   "outputs": [],
   "source": [
    "#teste\n",
    "data = '2021-11-01 00:00:00'"
   ]
  },
  {
   "cell_type": "code",
   "execution_count": 38,
   "id": "8cbcf67e",
   "metadata": {},
   "outputs": [],
   "source": [
    "segment_restriction = segment_restriction[segment_restriction.DistributionDate == data][[\"SegmentID\",\"Segment\",\"AgencyID\",\"ReferenceBalance\",\"AvailableBalance\",\"isEnabled_y\",\"EnforcedFlag\"]]"
   ]
  },
  {
   "cell_type": "code",
   "execution_count": 39,
   "id": "3561aa2b",
   "metadata": {},
   "outputs": [],
   "source": [
    "segment_restriction = segment_restriction.rename(columns={'SegmentID':'segment_id', 'Segment':'segment', 'AgencyID':'agency_id', 'ReferenceBalance':'reference_balance','AvailableBalance':'available_balance','isEnabled_y':'is_enabled','EnforcedFlag':'enforced_flag'})"
   ]
  },
  {
   "cell_type": "code",
   "execution_count": 40,
   "id": "a7febff5",
   "metadata": {},
   "outputs": [],
   "source": [
    "segment_restriction.sort_values(by=['segment_id'], inplace=True)"
   ]
  },
  {
   "cell_type": "code",
   "execution_count": 41,
   "id": "6227b8c5",
   "metadata": {},
   "outputs": [
    {
     "data": {
      "text/html": [
       "<div>\n",
       "<style scoped>\n",
       "    .dataframe tbody tr th:only-of-type {\n",
       "        vertical-align: middle;\n",
       "    }\n",
       "\n",
       "    .dataframe tbody tr th {\n",
       "        vertical-align: top;\n",
       "    }\n",
       "\n",
       "    .dataframe thead th {\n",
       "        text-align: right;\n",
       "    }\n",
       "</style>\n",
       "<table border=\"1\" class=\"dataframe\">\n",
       "  <thead>\n",
       "    <tr style=\"text-align: right;\">\n",
       "      <th></th>\n",
       "      <th>segment_id</th>\n",
       "      <th>segment</th>\n",
       "      <th>agency_id</th>\n",
       "      <th>reference_balance</th>\n",
       "      <th>available_balance</th>\n",
       "      <th>is_enabled</th>\n",
       "      <th>enforced_flag</th>\n",
       "    </tr>\n",
       "  </thead>\n",
       "  <tbody>\n",
       "    <tr>\n",
       "      <th>15</th>\n",
       "      <td>1</td>\n",
       "      <td>Agibank</td>\n",
       "      <td>185</td>\n",
       "      <td>1.239133e+08</td>\n",
       "      <td>18170827.43</td>\n",
       "      <td>True</td>\n",
       "      <td>False</td>\n",
       "    </tr>\n",
       "    <tr>\n",
       "      <th>29</th>\n",
       "      <td>1</td>\n",
       "      <td>Agibank</td>\n",
       "      <td>809</td>\n",
       "      <td>3.224902e+05</td>\n",
       "      <td>322490.21</td>\n",
       "      <td>False</td>\n",
       "      <td>False</td>\n",
       "    </tr>\n",
       "    <tr>\n",
       "      <th>28</th>\n",
       "      <td>1</td>\n",
       "      <td>Agibank</td>\n",
       "      <td>796</td>\n",
       "      <td>NaN</td>\n",
       "      <td>NaN</td>\n",
       "      <td>False</td>\n",
       "      <td>False</td>\n",
       "    </tr>\n",
       "    <tr>\n",
       "      <th>27</th>\n",
       "      <td>1</td>\n",
       "      <td>Agibank</td>\n",
       "      <td>794</td>\n",
       "      <td>1.664443e+04</td>\n",
       "      <td>16644.43</td>\n",
       "      <td>False</td>\n",
       "      <td>False</td>\n",
       "    </tr>\n",
       "    <tr>\n",
       "      <th>26</th>\n",
       "      <td>1</td>\n",
       "      <td>Agibank</td>\n",
       "      <td>699</td>\n",
       "      <td>1.420509e+08</td>\n",
       "      <td>84828041.06</td>\n",
       "      <td>True</td>\n",
       "      <td>False</td>\n",
       "    </tr>\n",
       "  </tbody>\n",
       "</table>\n",
       "</div>"
      ],
      "text/plain": [
       "    segment_id  segment  agency_id  reference_balance  available_balance  \\\n",
       "15           1  Agibank        185       1.239133e+08        18170827.43   \n",
       "29           1  Agibank        809       3.224902e+05          322490.21   \n",
       "28           1  Agibank        796                NaN                NaN   \n",
       "27           1  Agibank        794       1.664443e+04           16644.43   \n",
       "26           1  Agibank        699       1.420509e+08        84828041.06   \n",
       "\n",
       "    is_enabled  enforced_flag  \n",
       "15        True          False  \n",
       "29       False          False  \n",
       "28       False          False  \n",
       "27       False          False  \n",
       "26        True          False  "
      ]
     },
     "execution_count": 41,
     "metadata": {},
     "output_type": "execute_result"
    }
   ],
   "source": [
    "segment_restriction.head()"
   ]
  },
  {
   "cell_type": "markdown",
   "id": "ee2529e0",
   "metadata": {},
   "source": [
    "### Seleciona os segmentos disponíveis"
   ]
  },
  {
   "cell_type": "code",
   "execution_count": 42,
   "id": "9f09513d",
   "metadata": {},
   "outputs": [],
   "source": [
    "segment_portfolio = AssignmentsOptimizationRestrictivePortfolios[AssignmentsOptimizationRestrictivePortfolios.isEnabled == 1][[\"SegmentID\", \"PortfolioID\"]]"
   ]
  },
  {
   "cell_type": "code",
   "execution_count": 43,
   "id": "84854493",
   "metadata": {},
   "outputs": [],
   "source": [
    "segment_portfolio = segment_portfolio.rename(columns={'SegmentID': 'segment_id', 'PortfolioID':'portfolio_id'})"
   ]
  },
  {
   "cell_type": "code",
   "execution_count": 44,
   "id": "82d8d9a1",
   "metadata": {},
   "outputs": [
    {
     "data": {
      "text/html": [
       "<div>\n",
       "<style scoped>\n",
       "    .dataframe tbody tr th:only-of-type {\n",
       "        vertical-align: middle;\n",
       "    }\n",
       "\n",
       "    .dataframe tbody tr th {\n",
       "        vertical-align: top;\n",
       "    }\n",
       "\n",
       "    .dataframe thead th {\n",
       "        text-align: right;\n",
       "    }\n",
       "</style>\n",
       "<table border=\"1\" class=\"dataframe\">\n",
       "  <thead>\n",
       "    <tr style=\"text-align: right;\">\n",
       "      <th></th>\n",
       "      <th>segment_id</th>\n",
       "      <th>portfolio_id</th>\n",
       "    </tr>\n",
       "  </thead>\n",
       "  <tbody>\n",
       "    <tr>\n",
       "      <th>0</th>\n",
       "      <td>1</td>\n",
       "      <td>68</td>\n",
       "    </tr>\n",
       "    <tr>\n",
       "      <th>1</th>\n",
       "      <td>2</td>\n",
       "      <td>86</td>\n",
       "    </tr>\n",
       "    <tr>\n",
       "      <th>2</th>\n",
       "      <td>3</td>\n",
       "      <td>55</td>\n",
       "    </tr>\n",
       "    <tr>\n",
       "      <th>3</th>\n",
       "      <td>3</td>\n",
       "      <td>70</td>\n",
       "    </tr>\n",
       "    <tr>\n",
       "      <th>4</th>\n",
       "      <td>4</td>\n",
       "      <td>57</td>\n",
       "    </tr>\n",
       "  </tbody>\n",
       "</table>\n",
       "</div>"
      ],
      "text/plain": [
       "   segment_id  portfolio_id\n",
       "0           1            68\n",
       "1           2            86\n",
       "2           3            55\n",
       "3           3            70\n",
       "4           4            57"
      ]
     },
     "execution_count": 44,
     "metadata": {},
     "output_type": "execute_result"
    }
   ],
   "source": [
    "segment_portfolio.head()"
   ]
  },
  {
   "cell_type": "markdown",
   "id": "597643ce",
   "metadata": {},
   "source": [
    "## new_assignments_template \n",
    "### Seleciona as distribuições mais recentes"
   ]
  },
  {
   "cell_type": "markdown",
   "id": "31d8a54e",
   "metadata": {},
   "source": [
    "### Selecionar as distribuições ativas que estarão com AssignmentStatus != 95005"
   ]
  },
  {
   "cell_type": "code",
   "execution_count": 45,
   "id": "924e6615",
   "metadata": {},
   "outputs": [],
   "source": [
    "#assignments_new = dd.read_parquet('s3://dlr-dev-bucket-rawzone/pic/datamart/assignment-debts-analytical/*.parquet', columns = [\"AssignmentDate\", \"DebtID\", \"AgencyID\", \"AssignmentID\", \"DebtStatus\", \"DebtStatusID\"]).compute()"
   ]
  },
  {
   "cell_type": "code",
   "execution_count": 52,
   "id": "1b6c1db5",
   "metadata": {},
   "outputs": [],
   "source": [
    "assignments_new = dd.read_parquet('s3://dlr-dev-bucket-rawzone/pic/datamart/assignment-debts-analytical/outubro/*.parquet', columns = [\"AssignmentDate\", \"DebtID\", \"AgencyID\", \"AssignmentID\", \"DebtStatus\", \"DebtStatusID\"]).compute() "
   ]
  },
  {
   "cell_type": "code",
   "execution_count": 53,
   "id": "83bcd73d",
   "metadata": {},
   "outputs": [],
   "source": [
    "#teste\n",
    "assignments_new2 = dd.read_parquet('s3://dlr-dev-bucket-rawzone/pic/datamart/assignment-debts-analytical/setembro/*.parquet', columns = [\"AssignmentDate\", \"DebtID\", \"AgencyID\", \"AssignmentID\", \"DebtStatus\", \"DebtStatusID\"]).compute() "
   ]
  },
  {
   "cell_type": "code",
   "execution_count": 54,
   "id": "6afd012f",
   "metadata": {},
   "outputs": [],
   "source": [
    "assignments_new = pd.concat([assignments_new, assignments_new2])"
   ]
  },
  {
   "cell_type": "code",
   "execution_count": 55,
   "id": "2664ba76",
   "metadata": {},
   "outputs": [
    {
     "data": {
      "text/plain": [
       "37791004"
      ]
     },
     "execution_count": 55,
     "metadata": {},
     "output_type": "execute_result"
    }
   ],
   "source": [
    "len(assignments_new)"
   ]
  },
  {
   "cell_type": "code",
   "execution_count": 56,
   "id": "10b6a12a",
   "metadata": {},
   "outputs": [],
   "source": [
    "assignments_new = assignments_new.drop_duplicates()"
   ]
  },
  {
   "cell_type": "code",
   "execution_count": 57,
   "id": "5f039761",
   "metadata": {},
   "outputs": [
    {
     "data": {
      "text/plain": [
       "19908957"
      ]
     },
     "execution_count": 57,
     "metadata": {},
     "output_type": "execute_result"
    }
   ],
   "source": [
    "len(assignments_new)"
   ]
  },
  {
   "cell_type": "code",
   "execution_count": 58,
   "id": "e3e37417",
   "metadata": {},
   "outputs": [],
   "source": [
    "assignments_new[\"AssignmentDate\"] = pd.to_datetime(assignments_new[\"AssignmentDate\"])"
   ]
  },
  {
   "cell_type": "code",
   "execution_count": 59,
   "id": "9ecc6995",
   "metadata": {},
   "outputs": [
    {
     "data": {
      "text/plain": [
       "Timestamp('2021-10-01 00:00:00')"
      ]
     },
     "execution_count": 59,
     "metadata": {},
     "output_type": "execute_result"
    }
   ],
   "source": [
    "#teste\n",
    "reference_date = pd.to_datetime('2021-10-01', format=\"%Y-%m-%d\")\n",
    "reference_date"
   ]
  },
  {
   "cell_type": "code",
   "execution_count": 60,
   "id": "cf895167",
   "metadata": {},
   "outputs": [],
   "source": [
    "assignmentDate = assignments_new[(assignments_new.AssignmentDate <= reference_date) & (assignments_new.DebtStatus == 'Active')]"
   ]
  },
  {
   "cell_type": "code",
   "execution_count": 61,
   "id": "766abcd7",
   "metadata": {},
   "outputs": [],
   "source": [
    "debtcontacts_new = pd.read_parquet('s3://dlr-dev-bucket-refinedzone/pic/datamart/debtcontacts/', columns = [\"PortfolioID\", \"CustomerID\", \"BindingID\", \"DebtID\", \"SettlementDate\", \"RecallDate\", \"SellDate\", \"DebtStatus\"])"
   ]
  },
  {
   "cell_type": "code",
   "execution_count": 62,
   "id": "e1d4083c",
   "metadata": {},
   "outputs": [],
   "source": [
    "debtcontacts_new_portifolios = debtcontacts_new[debtcontacts_new.PortfolioID.isin(portifolios)]"
   ]
  },
  {
   "cell_type": "code",
   "execution_count": 63,
   "id": "64d1a3d7",
   "metadata": {},
   "outputs": [],
   "source": [
    "max_assignment = pd.merge(assignmentDate, debtcontacts_new_portifolios, on=\"DebtID\")"
   ]
  },
  {
   "cell_type": "code",
   "execution_count": 64,
   "id": "da9aad82",
   "metadata": {},
   "outputs": [
    {
     "data": {
      "text/html": [
       "<div>\n",
       "<style scoped>\n",
       "    .dataframe tbody tr th:only-of-type {\n",
       "        vertical-align: middle;\n",
       "    }\n",
       "\n",
       "    .dataframe tbody tr th {\n",
       "        vertical-align: top;\n",
       "    }\n",
       "\n",
       "    .dataframe thead th {\n",
       "        text-align: right;\n",
       "    }\n",
       "</style>\n",
       "<table border=\"1\" class=\"dataframe\">\n",
       "  <thead>\n",
       "    <tr style=\"text-align: right;\">\n",
       "      <th></th>\n",
       "      <th>AssignmentDate</th>\n",
       "      <th>DebtID</th>\n",
       "      <th>AgencyID</th>\n",
       "      <th>AssignmentID</th>\n",
       "      <th>DebtStatus_x</th>\n",
       "      <th>DebtStatusID</th>\n",
       "      <th>PortfolioID</th>\n",
       "      <th>CustomerID</th>\n",
       "      <th>BindingID</th>\n",
       "      <th>SettlementDate</th>\n",
       "      <th>RecallDate</th>\n",
       "      <th>SellDate</th>\n",
       "      <th>DebtStatus_y</th>\n",
       "    </tr>\n",
       "  </thead>\n",
       "  <tbody>\n",
       "    <tr>\n",
       "      <th>0</th>\n",
       "      <td>2021-07-30</td>\n",
       "      <td>35379265</td>\n",
       "      <td>680</td>\n",
       "      <td>367414416</td>\n",
       "      <td>Active</td>\n",
       "      <td>7000.0</td>\n",
       "      <td>78.0</td>\n",
       "      <td>49986723.0</td>\n",
       "      <td>33172696.0</td>\n",
       "      <td>NaT</td>\n",
       "      <td>NaT</td>\n",
       "      <td>None</td>\n",
       "      <td>7000.0</td>\n",
       "    </tr>\n",
       "    <tr>\n",
       "      <th>1</th>\n",
       "      <td>2020-06-15</td>\n",
       "      <td>12992389</td>\n",
       "      <td>756</td>\n",
       "      <td>316449960</td>\n",
       "      <td>Active</td>\n",
       "      <td>7000.0</td>\n",
       "      <td>80.0</td>\n",
       "      <td>25357717.0</td>\n",
       "      <td>13066713.0</td>\n",
       "      <td>NaT</td>\n",
       "      <td>NaT</td>\n",
       "      <td>None</td>\n",
       "      <td>7000.0</td>\n",
       "    </tr>\n",
       "    <tr>\n",
       "      <th>2</th>\n",
       "      <td>2021-02-27</td>\n",
       "      <td>20801440</td>\n",
       "      <td>684</td>\n",
       "      <td>350266498</td>\n",
       "      <td>Active</td>\n",
       "      <td>7000.0</td>\n",
       "      <td>53.0</td>\n",
       "      <td>41134400.0</td>\n",
       "      <td>20224573.0</td>\n",
       "      <td>NaT</td>\n",
       "      <td>NaT</td>\n",
       "      <td>None</td>\n",
       "      <td>7000.0</td>\n",
       "    </tr>\n",
       "    <tr>\n",
       "      <th>3</th>\n",
       "      <td>2021-04-29</td>\n",
       "      <td>25313211</td>\n",
       "      <td>681</td>\n",
       "      <td>355441292</td>\n",
       "      <td>Active</td>\n",
       "      <td>7000.0</td>\n",
       "      <td>58.0</td>\n",
       "      <td>46408643.0</td>\n",
       "      <td>24788820.0</td>\n",
       "      <td>NaT</td>\n",
       "      <td>NaT</td>\n",
       "      <td>None</td>\n",
       "      <td>7000.0</td>\n",
       "    </tr>\n",
       "    <tr>\n",
       "      <th>4</th>\n",
       "      <td>2020-10-03</td>\n",
       "      <td>30790319</td>\n",
       "      <td>756</td>\n",
       "      <td>334264819</td>\n",
       "      <td>Active</td>\n",
       "      <td>7000.0</td>\n",
       "      <td>66.0</td>\n",
       "      <td>51097938.0</td>\n",
       "      <td>27306831.0</td>\n",
       "      <td>NaT</td>\n",
       "      <td>NaT</td>\n",
       "      <td>None</td>\n",
       "      <td>7000.0</td>\n",
       "    </tr>\n",
       "  </tbody>\n",
       "</table>\n",
       "</div>"
      ],
      "text/plain": [
       "  AssignmentDate    DebtID  AgencyID  AssignmentID DebtStatus_x  DebtStatusID  \\\n",
       "0     2021-07-30  35379265       680     367414416       Active        7000.0   \n",
       "1     2020-06-15  12992389       756     316449960       Active        7000.0   \n",
       "2     2021-02-27  20801440       684     350266498       Active        7000.0   \n",
       "3     2021-04-29  25313211       681     355441292       Active        7000.0   \n",
       "4     2020-10-03  30790319       756     334264819       Active        7000.0   \n",
       "\n",
       "   PortfolioID  CustomerID   BindingID SettlementDate RecallDate SellDate  \\\n",
       "0         78.0  49986723.0  33172696.0            NaT        NaT     None   \n",
       "1         80.0  25357717.0  13066713.0            NaT        NaT     None   \n",
       "2         53.0  41134400.0  20224573.0            NaT        NaT     None   \n",
       "3         58.0  46408643.0  24788820.0            NaT        NaT     None   \n",
       "4         66.0  51097938.0  27306831.0            NaT        NaT     None   \n",
       "\n",
       "   DebtStatus_y  \n",
       "0        7000.0  \n",
       "1        7000.0  \n",
       "2        7000.0  \n",
       "3        7000.0  \n",
       "4        7000.0  "
      ]
     },
     "execution_count": 64,
     "metadata": {},
     "output_type": "execute_result"
    }
   ],
   "source": [
    "max_assignment.head()"
   ]
  },
  {
   "cell_type": "code",
   "execution_count": 65,
   "id": "e3d750d8",
   "metadata": {},
   "outputs": [],
   "source": [
    "del debtcontacts_new_portifolios, assignmentDate"
   ]
  },
  {
   "cell_type": "code",
   "execution_count": 66,
   "id": "a4df34fe",
   "metadata": {},
   "outputs": [],
   "source": [
    "max_assignment = max_assignment.groupby(\"DebtID\")[[\"AssignmentID\"]].min()"
   ]
  },
  {
   "cell_type": "markdown",
   "id": "8a978bac",
   "metadata": {},
   "source": [
    "#### Verifica se o debtos estão abertos\n"
   ]
  },
  {
   "cell_type": "code",
   "execution_count": 67,
   "id": "2a71cb89",
   "metadata": {},
   "outputs": [],
   "source": [
    "ref_date = reference_date"
   ]
  },
  {
   "cell_type": "code",
   "execution_count": 68,
   "id": "5eac167d",
   "metadata": {},
   "outputs": [],
   "source": [
    "debtcontacts_new[\"SellDate\"] = pd.to_datetime(debtcontacts_new[\"SellDate\"])"
   ]
  },
  {
   "cell_type": "code",
   "execution_count": 69,
   "id": "94f53270",
   "metadata": {},
   "outputs": [],
   "source": [
    "debts = debtcontacts_new[(debtcontacts_new.SettlementDate.isnull() | debtcontacts_new.RecallDate.isnull() | debtcontacts_new.SellDate.isnull()) | ((debtcontacts_new.SettlementDate > ref_date) & (~debtcontacts_new.SettlementDate.isnull())) | ((~debtcontacts_new.RecallDate.isnull()) & (debtcontacts_new.RecallDate > ref_date)) | ((debtcontacts_new.SellDate > ref_date) & (~debtcontacts_new.SellDate.isnull()))]"
   ]
  },
  {
   "cell_type": "code",
   "execution_count": 70,
   "id": "823a6e0d",
   "metadata": {},
   "outputs": [
    {
     "data": {
      "text/html": [
       "<div>\n",
       "<style scoped>\n",
       "    .dataframe tbody tr th:only-of-type {\n",
       "        vertical-align: middle;\n",
       "    }\n",
       "\n",
       "    .dataframe tbody tr th {\n",
       "        vertical-align: top;\n",
       "    }\n",
       "\n",
       "    .dataframe thead th {\n",
       "        text-align: right;\n",
       "    }\n",
       "</style>\n",
       "<table border=\"1\" class=\"dataframe\">\n",
       "  <thead>\n",
       "    <tr style=\"text-align: right;\">\n",
       "      <th></th>\n",
       "      <th>PortfolioID</th>\n",
       "      <th>CustomerID</th>\n",
       "      <th>BindingID</th>\n",
       "      <th>DebtID</th>\n",
       "      <th>SettlementDate</th>\n",
       "      <th>RecallDate</th>\n",
       "      <th>SellDate</th>\n",
       "      <th>DebtStatus</th>\n",
       "    </tr>\n",
       "  </thead>\n",
       "  <tbody>\n",
       "    <tr>\n",
       "      <th>0</th>\n",
       "      <td>79.0</td>\n",
       "      <td>19551642.0</td>\n",
       "      <td>12322098.0</td>\n",
       "      <td>12230411.0</td>\n",
       "      <td>NaT</td>\n",
       "      <td>NaT</td>\n",
       "      <td>NaT</td>\n",
       "      <td>7000.0</td>\n",
       "    </tr>\n",
       "    <tr>\n",
       "      <th>1</th>\n",
       "      <td>79.0</td>\n",
       "      <td>19540108.0</td>\n",
       "      <td>12299682.0</td>\n",
       "      <td>12230412.0</td>\n",
       "      <td>NaT</td>\n",
       "      <td>NaT</td>\n",
       "      <td>NaT</td>\n",
       "      <td>7000.0</td>\n",
       "    </tr>\n",
       "    <tr>\n",
       "      <th>2</th>\n",
       "      <td>79.0</td>\n",
       "      <td>19521919.0</td>\n",
       "      <td>12262747.0</td>\n",
       "      <td>12230413.0</td>\n",
       "      <td>NaT</td>\n",
       "      <td>NaT</td>\n",
       "      <td>NaT</td>\n",
       "      <td>7000.0</td>\n",
       "    </tr>\n",
       "    <tr>\n",
       "      <th>3</th>\n",
       "      <td>79.0</td>\n",
       "      <td>7267952.0</td>\n",
       "      <td>12232688.0</td>\n",
       "      <td>12230414.0</td>\n",
       "      <td>NaT</td>\n",
       "      <td>NaT</td>\n",
       "      <td>NaT</td>\n",
       "      <td>7000.0</td>\n",
       "    </tr>\n",
       "    <tr>\n",
       "      <th>4</th>\n",
       "      <td>79.0</td>\n",
       "      <td>19528076.0</td>\n",
       "      <td>12275568.0</td>\n",
       "      <td>12230416.0</td>\n",
       "      <td>NaT</td>\n",
       "      <td>NaT</td>\n",
       "      <td>NaT</td>\n",
       "      <td>7000.0</td>\n",
       "    </tr>\n",
       "  </tbody>\n",
       "</table>\n",
       "</div>"
      ],
      "text/plain": [
       "   PortfolioID  CustomerID   BindingID      DebtID SettlementDate RecallDate  \\\n",
       "0         79.0  19551642.0  12322098.0  12230411.0            NaT        NaT   \n",
       "1         79.0  19540108.0  12299682.0  12230412.0            NaT        NaT   \n",
       "2         79.0  19521919.0  12262747.0  12230413.0            NaT        NaT   \n",
       "3         79.0   7267952.0  12232688.0  12230414.0            NaT        NaT   \n",
       "4         79.0  19528076.0  12275568.0  12230416.0            NaT        NaT   \n",
       "\n",
       "  SellDate  DebtStatus  \n",
       "0      NaT      7000.0  \n",
       "1      NaT      7000.0  \n",
       "2      NaT      7000.0  \n",
       "3      NaT      7000.0  \n",
       "4      NaT      7000.0  "
      ]
     },
     "execution_count": 70,
     "metadata": {},
     "output_type": "execute_result"
    }
   ],
   "source": [
    "debts.head()"
   ]
  },
  {
   "cell_type": "code",
   "execution_count": 72,
   "id": "3406313f",
   "metadata": {},
   "outputs": [],
   "source": [
    "debts['DebtStatus'] = debts['DebtStatus'].fillna(0)"
   ]
  },
  {
   "cell_type": "code",
   "execution_count": 73,
   "id": "995f09ab",
   "metadata": {},
   "outputs": [],
   "source": [
    "debts['DebtStatus'] = debts['DebtStatus'].astype('int')"
   ]
  },
  {
   "cell_type": "markdown",
   "id": "19bc6d89",
   "metadata": {},
   "source": [
    "#### Pega apenas as dívidas disponíveis para distribuição DebtStatus = 7000"
   ]
  },
  {
   "cell_type": "code",
   "execution_count": 75,
   "id": "6b34462f",
   "metadata": {},
   "outputs": [],
   "source": [
    "debts = debts[debts.DebtStatus == 7000]"
   ]
  },
  {
   "cell_type": "markdown",
   "id": "8d7f137f",
   "metadata": {},
   "source": [
    "#### Remove os escritórios que são digitais, esses podem estar a dívida concomitantemente em mais de um escritório"
   ]
  },
  {
   "cell_type": "code",
   "execution_count": 76,
   "id": "51a74ab0",
   "metadata": {},
   "outputs": [],
   "source": [
    "units = businessUnits[businessUnits.businessunittypeid.isin([4,8])]"
   ]
  },
  {
   "cell_type": "markdown",
   "id": "ed48b736",
   "metadata": {},
   "source": [
    "#### Remove algumas agências"
   ]
  },
  {
   "cell_type": "code",
   "execution_count": 77,
   "id": "304bac4b",
   "metadata": {},
   "outputs": [],
   "source": [
    "ass = assignments_new[~assignments_new.AgencyID.isin([\"716\",\"175\",\"756\",\"820\"])]"
   ]
  },
  {
   "cell_type": "code",
   "execution_count": 78,
   "id": "04e55b95",
   "metadata": {},
   "outputs": [],
   "source": [
    "new_assignments_template = pd.merge(pd.merge(pd.merge(ass,max_assignment,on='AssignmentID'),debts,on='DebtID'), units, on=\"AgencyID\")"
   ]
  },
  {
   "cell_type": "code",
   "execution_count": 80,
   "id": "ea6176eb",
   "metadata": {},
   "outputs": [
    {
     "data": {
      "text/html": [
       "<div>\n",
       "<style scoped>\n",
       "    .dataframe tbody tr th:only-of-type {\n",
       "        vertical-align: middle;\n",
       "    }\n",
       "\n",
       "    .dataframe tbody tr th {\n",
       "        vertical-align: top;\n",
       "    }\n",
       "\n",
       "    .dataframe thead th {\n",
       "        text-align: right;\n",
       "    }\n",
       "</style>\n",
       "<table border=\"1\" class=\"dataframe\">\n",
       "  <thead>\n",
       "    <tr style=\"text-align: right;\">\n",
       "      <th></th>\n",
       "      <th>AssignmentDate</th>\n",
       "      <th>DebtID</th>\n",
       "      <th>AgencyID</th>\n",
       "      <th>AssignmentID</th>\n",
       "      <th>DebtStatus_x</th>\n",
       "      <th>DebtStatusID</th>\n",
       "      <th>PortfolioID</th>\n",
       "      <th>CustomerID</th>\n",
       "      <th>BindingID</th>\n",
       "      <th>SettlementDate</th>\n",
       "      <th>...</th>\n",
       "      <th>contactid</th>\n",
       "      <th>parentbusinessunitid</th>\n",
       "      <th>creationdate</th>\n",
       "      <th>creationusersid</th>\n",
       "      <th>dataversion</th>\n",
       "      <th>businessunittypeid</th>\n",
       "      <th>enabled</th>\n",
       "      <th>businessunitcode</th>\n",
       "      <th>email</th>\n",
       "      <th>cancellationdate</th>\n",
       "    </tr>\n",
       "  </thead>\n",
       "  <tbody>\n",
       "    <tr>\n",
       "      <th>0</th>\n",
       "      <td>2021-07-30</td>\n",
       "      <td>35379265</td>\n",
       "      <td>680</td>\n",
       "      <td>367414416</td>\n",
       "      <td>Active</td>\n",
       "      <td>7000.0</td>\n",
       "      <td>78.0</td>\n",
       "      <td>49986723.0</td>\n",
       "      <td>33172696.0</td>\n",
       "      <td>NaT</td>\n",
       "      <td>...</td>\n",
       "      <td>35123687.0</td>\n",
       "      <td>NaN</td>\n",
       "      <td>2017-12-28 12:04:00</td>\n",
       "      <td>0</td>\n",
       "      <td>b'\\x00\\x00\\x00\\x06a\\xd8\\xc5\\xdb'</td>\n",
       "      <td>4</td>\n",
       "      <td>True</td>\n",
       "      <td>None</td>\n",
       "      <td>None</td>\n",
       "      <td>None</td>\n",
       "    </tr>\n",
       "  </tbody>\n",
       "</table>\n",
       "<p>1 rows × 25 columns</p>\n",
       "</div>"
      ],
      "text/plain": [
       "  AssignmentDate    DebtID  AgencyID  AssignmentID DebtStatus_x  DebtStatusID  \\\n",
       "0     2021-07-30  35379265       680     367414416       Active        7000.0   \n",
       "\n",
       "   PortfolioID  CustomerID   BindingID SettlementDate  ...   contactid  \\\n",
       "0         78.0  49986723.0  33172696.0            NaT  ...  35123687.0   \n",
       "\n",
       "  parentbusinessunitid        creationdate creationusersid  \\\n",
       "0                  NaN 2017-12-28 12:04:00               0   \n",
       "\n",
       "                        dataversion  businessunittypeid  enabled  \\\n",
       "0  b'\\x00\\x00\\x00\\x06a\\xd8\\xc5\\xdb'                   4     True   \n",
       "\n",
       "  businessunitcode  email cancellationdate  \n",
       "0             None   None             None  \n",
       "\n",
       "[1 rows x 25 columns]"
      ]
     },
     "execution_count": 80,
     "metadata": {},
     "output_type": "execute_result"
    }
   ],
   "source": [
    "new_assignments_template[new_assignments_template.DebtID == 35379265 ]"
   ]
  },
  {
   "cell_type": "code",
   "execution_count": 81,
   "id": "cced510a",
   "metadata": {},
   "outputs": [
    {
     "data": {
      "text/html": [
       "<div>\n",
       "<style scoped>\n",
       "    .dataframe tbody tr th:only-of-type {\n",
       "        vertical-align: middle;\n",
       "    }\n",
       "\n",
       "    .dataframe tbody tr th {\n",
       "        vertical-align: top;\n",
       "    }\n",
       "\n",
       "    .dataframe thead th {\n",
       "        text-align: right;\n",
       "    }\n",
       "</style>\n",
       "<table border=\"1\" class=\"dataframe\">\n",
       "  <thead>\n",
       "    <tr style=\"text-align: right;\">\n",
       "      <th></th>\n",
       "      <th>AssignmentDate</th>\n",
       "      <th>DebtID</th>\n",
       "      <th>AgencyID</th>\n",
       "      <th>AssignmentID</th>\n",
       "      <th>DebtStatus_x</th>\n",
       "      <th>DebtStatusID</th>\n",
       "      <th>PortfolioID</th>\n",
       "      <th>CustomerID</th>\n",
       "      <th>BindingID</th>\n",
       "      <th>SettlementDate</th>\n",
       "      <th>...</th>\n",
       "      <th>contactid</th>\n",
       "      <th>parentbusinessunitid</th>\n",
       "      <th>creationdate</th>\n",
       "      <th>creationusersid</th>\n",
       "      <th>dataversion</th>\n",
       "      <th>businessunittypeid</th>\n",
       "      <th>enabled</th>\n",
       "      <th>businessunitcode</th>\n",
       "      <th>email</th>\n",
       "      <th>cancellationdate</th>\n",
       "    </tr>\n",
       "  </thead>\n",
       "  <tbody>\n",
       "  </tbody>\n",
       "</table>\n",
       "<p>0 rows × 25 columns</p>\n",
       "</div>"
      ],
      "text/plain": [
       "Empty DataFrame\n",
       "Columns: [AssignmentDate, DebtID, AgencyID, AssignmentID, DebtStatus_x, DebtStatusID, PortfolioID, CustomerID, BindingID, SettlementDate, RecallDate, SellDate, DebtStatus_y, name, alias, contactid, parentbusinessunitid, creationdate, creationusersid, dataversion, businessunittypeid, enabled, businessunitcode, email, cancellationdate]\n",
       "Index: []\n",
       "\n",
       "[0 rows x 25 columns]"
      ]
     },
     "execution_count": 81,
     "metadata": {},
     "output_type": "execute_result"
    }
   ],
   "source": [
    "new_assignments_template[new_assignments_template.duplicated()]"
   ]
  },
  {
   "cell_type": "code",
   "execution_count": 82,
   "id": "d88f3dc2",
   "metadata": {},
   "outputs": [],
   "source": [
    "del ass, max_assignment, debts, debtcontacts_new, assignments_new, businessUnits"
   ]
  },
  {
   "cell_type": "code",
   "execution_count": 83,
   "id": "53399b43",
   "metadata": {},
   "outputs": [],
   "source": [
    "new_assignments_template= new_assignments_template[[\"AssignmentDate\", \"PortfolioID\", \"DebtID\", \"CustomerID\", \"AgencyID\", \"BindingID\"]]"
   ]
  },
  {
   "cell_type": "code",
   "execution_count": 84,
   "id": "c2cb21a4",
   "metadata": {},
   "outputs": [],
   "source": [
    "new_assignments_template.columns = ['assignment_time', 'portfolio_id','debt_id','customer_id','agency_id','binding_id']"
   ]
  },
  {
   "cell_type": "code",
   "execution_count": 85,
   "id": "08b72645",
   "metadata": {},
   "outputs": [],
   "source": [
    "new_assignments_template.sort_values(by=['portfolio_id', 'debt_id'], inplace=True)"
   ]
  },
  {
   "cell_type": "code",
   "execution_count": 86,
   "id": "35d24445",
   "metadata": {},
   "outputs": [
    {
     "data": {
      "text/html": [
       "<div>\n",
       "<style scoped>\n",
       "    .dataframe tbody tr th:only-of-type {\n",
       "        vertical-align: middle;\n",
       "    }\n",
       "\n",
       "    .dataframe tbody tr th {\n",
       "        vertical-align: top;\n",
       "    }\n",
       "\n",
       "    .dataframe thead th {\n",
       "        text-align: right;\n",
       "    }\n",
       "</style>\n",
       "<table border=\"1\" class=\"dataframe\">\n",
       "  <thead>\n",
       "    <tr style=\"text-align: right;\">\n",
       "      <th></th>\n",
       "      <th>assignment_time</th>\n",
       "      <th>portfolio_id</th>\n",
       "      <th>debt_id</th>\n",
       "      <th>customer_id</th>\n",
       "      <th>agency_id</th>\n",
       "      <th>binding_id</th>\n",
       "    </tr>\n",
       "  </thead>\n",
       "  <tbody>\n",
       "    <tr>\n",
       "      <th>818080</th>\n",
       "      <td>2021-02-27</td>\n",
       "      <td>46.0</td>\n",
       "      <td>14070137</td>\n",
       "      <td>26969668.0</td>\n",
       "      <td>481</td>\n",
       "      <td>14154373.0</td>\n",
       "    </tr>\n",
       "    <tr>\n",
       "      <th>1621317</th>\n",
       "      <td>2021-06-02</td>\n",
       "      <td>46.0</td>\n",
       "      <td>14070139</td>\n",
       "      <td>26965502.0</td>\n",
       "      <td>640</td>\n",
       "      <td>14369179.0</td>\n",
       "    </tr>\n",
       "    <tr>\n",
       "      <th>649186</th>\n",
       "      <td>2021-05-28</td>\n",
       "      <td>46.0</td>\n",
       "      <td>14070141</td>\n",
       "      <td>26988066.0</td>\n",
       "      <td>691</td>\n",
       "      <td>14152418.0</td>\n",
       "    </tr>\n",
       "    <tr>\n",
       "      <th>1672105</th>\n",
       "      <td>2021-06-29</td>\n",
       "      <td>46.0</td>\n",
       "      <td>14070144</td>\n",
       "      <td>26965416.0</td>\n",
       "      <td>635</td>\n",
       "      <td>14163849.0</td>\n",
       "    </tr>\n",
       "    <tr>\n",
       "      <th>838719</th>\n",
       "      <td>2021-08-31</td>\n",
       "      <td>46.0</td>\n",
       "      <td>14070157</td>\n",
       "      <td>26976693.0</td>\n",
       "      <td>481</td>\n",
       "      <td>14167591.0</td>\n",
       "    </tr>\n",
       "  </tbody>\n",
       "</table>\n",
       "</div>"
      ],
      "text/plain": [
       "        assignment_time  portfolio_id   debt_id  customer_id  agency_id  \\\n",
       "818080       2021-02-27          46.0  14070137   26969668.0        481   \n",
       "1621317      2021-06-02          46.0  14070139   26965502.0        640   \n",
       "649186       2021-05-28          46.0  14070141   26988066.0        691   \n",
       "1672105      2021-06-29          46.0  14070144   26965416.0        635   \n",
       "838719       2021-08-31          46.0  14070157   26976693.0        481   \n",
       "\n",
       "         binding_id  \n",
       "818080   14154373.0  \n",
       "1621317  14369179.0  \n",
       "649186   14152418.0  \n",
       "1672105  14163849.0  \n",
       "838719   14167591.0  "
      ]
     },
     "execution_count": 86,
     "metadata": {},
     "output_type": "execute_result"
    }
   ],
   "source": [
    "new_assignments_template.head()"
   ]
  },
  {
   "cell_type": "markdown",
   "id": "e7f25fbd",
   "metadata": {},
   "source": [
    "### process_portfolio"
   ]
  },
  {
   "cell_type": "markdown",
   "id": "8004da15",
   "metadata": {},
   "source": [
    "### Verifica para quais agências as dívidas foram distribuidas no mês atual "
   ]
  },
  {
   "cell_type": "code",
   "execution_count": 87,
   "id": "c53544f4",
   "metadata": {},
   "outputs": [],
   "source": [
    "#teste\n",
    "assingments_process_portfolio = dd.read_parquet('s3://dlr-dev-bucket-rawzone/pic/datamart/assignment-debts-analytical/outubro/*.parquet', columns = [\"RefDate\",\"DebtID\", \"PortfolioID\", \"CustomerID\", \"AgencyID\", \"AssignmentDate\"]).compute() "
   ]
  },
  {
   "cell_type": "code",
   "execution_count": 88,
   "id": "f9e37293",
   "metadata": {},
   "outputs": [],
   "source": [
    "#teste\n",
    "assingments_process_portfolio2 = dd.read_parquet('s3://dlr-dev-bucket-rawzone/pic/datamart/assignment-debts-analytical/setembro/*.parquet', columns = [\"RefDate\",\"DebtID\", \"PortfolioID\", \"CustomerID\", \"AgencyID\", \"AssignmentDate\"]).compute() "
   ]
  },
  {
   "cell_type": "code",
   "execution_count": 89,
   "id": "a1839480",
   "metadata": {},
   "outputs": [
    {
     "data": {
      "text/plain": [
       "19256634"
      ]
     },
     "execution_count": 89,
     "metadata": {},
     "output_type": "execute_result"
    }
   ],
   "source": [
    "len(assingments_process_portfolio)"
   ]
  },
  {
   "cell_type": "code",
   "execution_count": 90,
   "id": "50c17475",
   "metadata": {},
   "outputs": [
    {
     "data": {
      "text/plain": [
       "18534370"
      ]
     },
     "execution_count": 90,
     "metadata": {},
     "output_type": "execute_result"
    }
   ],
   "source": [
    "len(assingments_process_portfolio2)"
   ]
  },
  {
   "cell_type": "code",
   "execution_count": 91,
   "id": "1a0961c6",
   "metadata": {},
   "outputs": [],
   "source": [
    "assingments_process_portfolio = pd.concat([assingments_process_portfolio, assingments_process_portfolio2])"
   ]
  },
  {
   "cell_type": "code",
   "execution_count": 92,
   "id": "68f8ea02",
   "metadata": {},
   "outputs": [],
   "source": [
    "assingments_process_portfolio = assingments_process_portfolio.drop_duplicates()"
   ]
  },
  {
   "cell_type": "code",
   "execution_count": 93,
   "id": "c35a6d7e",
   "metadata": {},
   "outputs": [],
   "source": [
    "assingments_process_portfolio[\"AssignmentDate\"] = pd.to_datetime(assingments_process_portfolio[\"AssignmentDate\"])"
   ]
  },
  {
   "cell_type": "code",
   "execution_count": 94,
   "id": "58f7c29e",
   "metadata": {},
   "outputs": [],
   "source": [
    "assingments_process_portfolio[\"RefDate\"] = pd.to_datetime(assingments_process_portfolio[\"RefDate\"], format=\"%Y%m\")"
   ]
  },
  {
   "cell_type": "code",
   "execution_count": 95,
   "id": "13c569e7",
   "metadata": {},
   "outputs": [],
   "source": [
    "# temp_start = assingments_process_portfolio[\"AssignmentDate\"].max() - MonthBegin(1)"
   ]
  },
  {
   "cell_type": "code",
   "execution_count": 96,
   "id": "359b4242",
   "metadata": {},
   "outputs": [],
   "source": [
    "# ref_date_month = pd.to_datetime(temp_start, format=\"%Y-%m-%d\") + pd.offsets.Day(10)"
   ]
  },
  {
   "cell_type": "code",
   "execution_count": 97,
   "id": "7a11b385",
   "metadata": {},
   "outputs": [],
   "source": [
    "# ref_date_month"
   ]
  },
  {
   "cell_type": "code",
   "execution_count": 98,
   "id": "fd9980b6",
   "metadata": {},
   "outputs": [],
   "source": [
    "# assingments_process_portfolio.dtypes"
   ]
  },
  {
   "cell_type": "code",
   "execution_count": 99,
   "id": "41d80095",
   "metadata": {},
   "outputs": [],
   "source": [
    "# assingments_process_portfolio[\"months_in_agency\"] = np.floor((ref_date_month - assingments_process_portfolio[\"AssignmentDate\"])/np.timedelta64(1, 'M'))"
   ]
  },
  {
   "cell_type": "code",
   "execution_count": 100,
   "id": "25837d3e",
   "metadata": {},
   "outputs": [
    {
     "data": {
      "text/html": [
       "<div>\n",
       "<style scoped>\n",
       "    .dataframe tbody tr th:only-of-type {\n",
       "        vertical-align: middle;\n",
       "    }\n",
       "\n",
       "    .dataframe tbody tr th {\n",
       "        vertical-align: top;\n",
       "    }\n",
       "\n",
       "    .dataframe thead th {\n",
       "        text-align: right;\n",
       "    }\n",
       "</style>\n",
       "<table border=\"1\" class=\"dataframe\">\n",
       "  <thead>\n",
       "    <tr style=\"text-align: right;\">\n",
       "      <th></th>\n",
       "      <th>RefDate</th>\n",
       "      <th>DebtID</th>\n",
       "      <th>PortfolioID</th>\n",
       "      <th>CustomerID</th>\n",
       "      <th>AgencyID</th>\n",
       "      <th>AssignmentDate</th>\n",
       "    </tr>\n",
       "  </thead>\n",
       "  <tbody>\n",
       "    <tr>\n",
       "      <th>0</th>\n",
       "      <td>2021-10-01</td>\n",
       "      <td>30109227</td>\n",
       "      <td>66</td>\n",
       "      <td>26954370</td>\n",
       "      <td>685</td>\n",
       "      <td>2020-02-01</td>\n",
       "    </tr>\n",
       "    <tr>\n",
       "      <th>1</th>\n",
       "      <td>2021-10-01</td>\n",
       "      <td>33897309</td>\n",
       "      <td>75</td>\n",
       "      <td>54904329</td>\n",
       "      <td>794</td>\n",
       "      <td>2021-07-30</td>\n",
       "    </tr>\n",
       "    <tr>\n",
       "      <th>2</th>\n",
       "      <td>2021-10-01</td>\n",
       "      <td>24913704</td>\n",
       "      <td>57</td>\n",
       "      <td>25676425</td>\n",
       "      <td>689</td>\n",
       "      <td>2021-07-30</td>\n",
       "    </tr>\n",
       "    <tr>\n",
       "      <th>3</th>\n",
       "      <td>2021-10-01</td>\n",
       "      <td>37814048</td>\n",
       "      <td>87</td>\n",
       "      <td>59824386</td>\n",
       "      <td>185</td>\n",
       "      <td>2021-05-28</td>\n",
       "    </tr>\n",
       "    <tr>\n",
       "      <th>4</th>\n",
       "      <td>2021-10-01</td>\n",
       "      <td>33955223</td>\n",
       "      <td>75</td>\n",
       "      <td>44727195</td>\n",
       "      <td>640</td>\n",
       "      <td>2020-07-15</td>\n",
       "    </tr>\n",
       "  </tbody>\n",
       "</table>\n",
       "</div>"
      ],
      "text/plain": [
       "     RefDate    DebtID  PortfolioID  CustomerID  AgencyID AssignmentDate\n",
       "0 2021-10-01  30109227           66    26954370       685     2020-02-01\n",
       "1 2021-10-01  33897309           75    54904329       794     2021-07-30\n",
       "2 2021-10-01  24913704           57    25676425       689     2021-07-30\n",
       "3 2021-10-01  37814048           87    59824386       185     2021-05-28\n",
       "4 2021-10-01  33955223           75    44727195       640     2020-07-15"
      ]
     },
     "execution_count": 100,
     "metadata": {},
     "output_type": "execute_result"
    }
   ],
   "source": [
    "assingments_process_portfolio.head()"
   ]
  },
  {
   "cell_type": "code",
   "execution_count": 101,
   "id": "98de79bf",
   "metadata": {},
   "outputs": [],
   "source": [
    "#teste\n",
    "#avaliar a formatação do mês atual"
   ]
  },
  {
   "cell_type": "code",
   "execution_count": 102,
   "id": "732ca938",
   "metadata": {},
   "outputs": [
    {
     "data": {
      "text/plain": [
       "Timestamp('2021-10-01 00:00:00')"
      ]
     },
     "execution_count": 102,
     "metadata": {},
     "output_type": "execute_result"
    }
   ],
   "source": [
    "mes_atual"
   ]
  },
  {
   "cell_type": "code",
   "execution_count": 103,
   "id": "e4e470a0",
   "metadata": {},
   "outputs": [],
   "source": [
    "assingments_1 = assingments_process_portfolio[(assingments_process_portfolio.PortfolioID.isin(portifolios)) & (~assingments_process_portfolio.AgencyID.isin([716, 175,756,820])) & (assingments_process_portfolio.RefDate == mes_atual)]"
   ]
  },
  {
   "cell_type": "code",
   "execution_count": 104,
   "id": "21413f6f",
   "metadata": {},
   "outputs": [],
   "source": [
    "assingments_1.columns = [\"time\", \"debt_id\", \"portfolio_id\", \"customer_id\", \"agency_id\", \"assignment_date\"]"
   ]
  },
  {
   "cell_type": "code",
   "execution_count": 105,
   "id": "514894b7",
   "metadata": {},
   "outputs": [
    {
     "data": {
      "text/html": [
       "<div>\n",
       "<style scoped>\n",
       "    .dataframe tbody tr th:only-of-type {\n",
       "        vertical-align: middle;\n",
       "    }\n",
       "\n",
       "    .dataframe tbody tr th {\n",
       "        vertical-align: top;\n",
       "    }\n",
       "\n",
       "    .dataframe thead th {\n",
       "        text-align: right;\n",
       "    }\n",
       "</style>\n",
       "<table border=\"1\" class=\"dataframe\">\n",
       "  <thead>\n",
       "    <tr style=\"text-align: right;\">\n",
       "      <th></th>\n",
       "      <th>time</th>\n",
       "      <th>debt_id</th>\n",
       "      <th>portfolio_id</th>\n",
       "      <th>customer_id</th>\n",
       "      <th>agency_id</th>\n",
       "      <th>assignment_date</th>\n",
       "    </tr>\n",
       "  </thead>\n",
       "  <tbody>\n",
       "    <tr>\n",
       "      <th>0</th>\n",
       "      <td>2021-10-01</td>\n",
       "      <td>30109227</td>\n",
       "      <td>66</td>\n",
       "      <td>26954370</td>\n",
       "      <td>685</td>\n",
       "      <td>2020-02-01</td>\n",
       "    </tr>\n",
       "    <tr>\n",
       "      <th>1</th>\n",
       "      <td>2021-10-01</td>\n",
       "      <td>33897309</td>\n",
       "      <td>75</td>\n",
       "      <td>54904329</td>\n",
       "      <td>794</td>\n",
       "      <td>2021-07-30</td>\n",
       "    </tr>\n",
       "    <tr>\n",
       "      <th>2</th>\n",
       "      <td>2021-10-01</td>\n",
       "      <td>24913704</td>\n",
       "      <td>57</td>\n",
       "      <td>25676425</td>\n",
       "      <td>689</td>\n",
       "      <td>2021-07-30</td>\n",
       "    </tr>\n",
       "    <tr>\n",
       "      <th>3</th>\n",
       "      <td>2021-10-01</td>\n",
       "      <td>37814048</td>\n",
       "      <td>87</td>\n",
       "      <td>59824386</td>\n",
       "      <td>185</td>\n",
       "      <td>2021-05-28</td>\n",
       "    </tr>\n",
       "    <tr>\n",
       "      <th>4</th>\n",
       "      <td>2021-10-01</td>\n",
       "      <td>33955223</td>\n",
       "      <td>75</td>\n",
       "      <td>44727195</td>\n",
       "      <td>640</td>\n",
       "      <td>2020-07-15</td>\n",
       "    </tr>\n",
       "  </tbody>\n",
       "</table>\n",
       "</div>"
      ],
      "text/plain": [
       "        time   debt_id  portfolio_id  customer_id  agency_id assignment_date\n",
       "0 2021-10-01  30109227            66     26954370        685      2020-02-01\n",
       "1 2021-10-01  33897309            75     54904329        794      2021-07-30\n",
       "2 2021-10-01  24913704            57     25676425        689      2021-07-30\n",
       "3 2021-10-01  37814048            87     59824386        185      2021-05-28\n",
       "4 2021-10-01  33955223            75     44727195        640      2020-07-15"
      ]
     },
     "execution_count": 105,
     "metadata": {},
     "output_type": "execute_result"
    }
   ],
   "source": [
    "assingments_1.head()"
   ]
  },
  {
   "cell_type": "code",
   "execution_count": 106,
   "id": "2b7d3c71",
   "metadata": {},
   "outputs": [],
   "source": [
    "val__assingments_1 = len(assingments_1)"
   ]
  },
  {
   "cell_type": "code",
   "execution_count": 107,
   "id": "7c578395",
   "metadata": {},
   "outputs": [],
   "source": [
    "# Inserindo segmento em assingments_1\n",
    "assingments_1 = pd.merge(assingments_1, segment_portfolio, validate=\"many_to_one\")"
   ]
  },
  {
   "cell_type": "code",
   "execution_count": 108,
   "id": "e26945a9",
   "metadata": {},
   "outputs": [],
   "source": [
    "assert val__assingments_1 == len(assingments_1), \\\n",
    "            \"assingments_1 mudou de tamanho ao inserir o segmento\""
   ]
  },
  {
   "cell_type": "code",
   "execution_count": 109,
   "id": "39da0598",
   "metadata": {},
   "outputs": [],
   "source": [
    "assingments_1.drop([\"portfolio_id\", \"assignment_date\"], axis=1, inplace=True)"
   ]
  },
  {
   "cell_type": "code",
   "execution_count": 110,
   "id": "0ab09519",
   "metadata": {},
   "outputs": [
    {
     "data": {
      "text/html": [
       "<div>\n",
       "<style scoped>\n",
       "    .dataframe tbody tr th:only-of-type {\n",
       "        vertical-align: middle;\n",
       "    }\n",
       "\n",
       "    .dataframe tbody tr th {\n",
       "        vertical-align: top;\n",
       "    }\n",
       "\n",
       "    .dataframe thead th {\n",
       "        text-align: right;\n",
       "    }\n",
       "</style>\n",
       "<table border=\"1\" class=\"dataframe\">\n",
       "  <thead>\n",
       "    <tr style=\"text-align: right;\">\n",
       "      <th></th>\n",
       "      <th>time</th>\n",
       "      <th>debt_id</th>\n",
       "      <th>customer_id</th>\n",
       "      <th>agency_id</th>\n",
       "      <th>segment_id</th>\n",
       "    </tr>\n",
       "  </thead>\n",
       "  <tbody>\n",
       "    <tr>\n",
       "      <th>0</th>\n",
       "      <td>2021-10-01</td>\n",
       "      <td>30109227</td>\n",
       "      <td>26954370</td>\n",
       "      <td>685</td>\n",
       "      <td>22</td>\n",
       "    </tr>\n",
       "    <tr>\n",
       "      <th>1</th>\n",
       "      <td>2021-10-01</td>\n",
       "      <td>30534504</td>\n",
       "      <td>49708804</td>\n",
       "      <td>686</td>\n",
       "      <td>22</td>\n",
       "    </tr>\n",
       "    <tr>\n",
       "      <th>2</th>\n",
       "      <td>2021-10-01</td>\n",
       "      <td>30851071</td>\n",
       "      <td>7822391</td>\n",
       "      <td>686</td>\n",
       "      <td>22</td>\n",
       "    </tr>\n",
       "    <tr>\n",
       "      <th>3</th>\n",
       "      <td>2021-10-01</td>\n",
       "      <td>30092299</td>\n",
       "      <td>43129621</td>\n",
       "      <td>680</td>\n",
       "      <td>22</td>\n",
       "    </tr>\n",
       "    <tr>\n",
       "      <th>4</th>\n",
       "      <td>2021-10-01</td>\n",
       "      <td>31262058</td>\n",
       "      <td>45783169</td>\n",
       "      <td>686</td>\n",
       "      <td>22</td>\n",
       "    </tr>\n",
       "  </tbody>\n",
       "</table>\n",
       "</div>"
      ],
      "text/plain": [
       "        time   debt_id  customer_id  agency_id  segment_id\n",
       "0 2021-10-01  30109227     26954370        685          22\n",
       "1 2021-10-01  30534504     49708804        686          22\n",
       "2 2021-10-01  30851071      7822391        686          22\n",
       "3 2021-10-01  30092299     43129621        680          22\n",
       "4 2021-10-01  31262058     45783169        686          22"
      ]
     },
     "execution_count": 110,
     "metadata": {},
     "output_type": "execute_result"
    }
   ],
   "source": [
    "assingments_1.head()"
   ]
  },
  {
   "cell_type": "markdown",
   "id": "19b56bb3",
   "metadata": {},
   "source": [
    "### Verifica para quais agências as dívidas foram distribuidas no mês anterior "
   ]
  },
  {
   "cell_type": "code",
   "execution_count": 111,
   "id": "c6f7b62a",
   "metadata": {},
   "outputs": [],
   "source": [
    "#teste\n",
    "#avaliar a formatação do mês anterior"
   ]
  },
  {
   "cell_type": "code",
   "execution_count": 113,
   "id": "7b3cb37b",
   "metadata": {},
   "outputs": [],
   "source": [
    "assingments_2 = assingments_process_portfolio[(assingments_process_portfolio.PortfolioID.isin(portifolios)) & (~assingments_process_portfolio.AgencyID.isin([716, 175,756,820])) & (assingments_process_portfolio.RefDate == mes_anterior)] "
   ]
  },
  {
   "cell_type": "code",
   "execution_count": 114,
   "id": "939c11f1",
   "metadata": {},
   "outputs": [],
   "source": [
    "assingments_2.columns = [\"time\", \"debt_id\", \"portfolio_id\", \"customer_id\", \"agency_id\", \"assignment_date\"]"
   ]
  },
  {
   "cell_type": "code",
   "execution_count": 115,
   "id": "13363337",
   "metadata": {},
   "outputs": [],
   "source": [
    "val__assingments_2 = len(assingments_2)"
   ]
  },
  {
   "cell_type": "code",
   "execution_count": 116,
   "id": "178d7148",
   "metadata": {},
   "outputs": [],
   "source": [
    "# Inserindo segmento em assingments_2\n",
    "assingments_2 = pd.merge(assingments_2, segment_portfolio, validate=\"many_to_one\")"
   ]
  },
  {
   "cell_type": "code",
   "execution_count": 117,
   "id": "0bf38c99",
   "metadata": {},
   "outputs": [],
   "source": [
    "assert val__assingments_2 == len(assingments_2), \\\n",
    "            \"assingments_2 mudou de tamanho ao inserir o segmento\""
   ]
  },
  {
   "cell_type": "code",
   "execution_count": 118,
   "id": "66a75bac",
   "metadata": {},
   "outputs": [
    {
     "data": {
      "text/html": [
       "<div>\n",
       "<style scoped>\n",
       "    .dataframe tbody tr th:only-of-type {\n",
       "        vertical-align: middle;\n",
       "    }\n",
       "\n",
       "    .dataframe tbody tr th {\n",
       "        vertical-align: top;\n",
       "    }\n",
       "\n",
       "    .dataframe thead th {\n",
       "        text-align: right;\n",
       "    }\n",
       "</style>\n",
       "<table border=\"1\" class=\"dataframe\">\n",
       "  <thead>\n",
       "    <tr style=\"text-align: right;\">\n",
       "      <th></th>\n",
       "      <th>time</th>\n",
       "      <th>debt_id</th>\n",
       "      <th>portfolio_id</th>\n",
       "      <th>customer_id</th>\n",
       "      <th>agency_id</th>\n",
       "      <th>assignment_date</th>\n",
       "      <th>segment_id</th>\n",
       "    </tr>\n",
       "  </thead>\n",
       "  <tbody>\n",
       "    <tr>\n",
       "      <th>0</th>\n",
       "      <td>2021-09-01</td>\n",
       "      <td>33212801</td>\n",
       "      <td>69</td>\n",
       "      <td>52692450</td>\n",
       "      <td>689</td>\n",
       "      <td>2021-08-31</td>\n",
       "      <td>17</td>\n",
       "    </tr>\n",
       "    <tr>\n",
       "      <th>1</th>\n",
       "      <td>2021-09-01</td>\n",
       "      <td>33067325</td>\n",
       "      <td>69</td>\n",
       "      <td>52771183</td>\n",
       "      <td>689</td>\n",
       "      <td>2021-04-29</td>\n",
       "      <td>17</td>\n",
       "    </tr>\n",
       "    <tr>\n",
       "      <th>2</th>\n",
       "      <td>2021-09-01</td>\n",
       "      <td>33252016</td>\n",
       "      <td>69</td>\n",
       "      <td>52756266</td>\n",
       "      <td>689</td>\n",
       "      <td>2020-01-14</td>\n",
       "      <td>17</td>\n",
       "    </tr>\n",
       "    <tr>\n",
       "      <th>3</th>\n",
       "      <td>2021-09-01</td>\n",
       "      <td>33118011</td>\n",
       "      <td>69</td>\n",
       "      <td>52652623</td>\n",
       "      <td>689</td>\n",
       "      <td>2021-02-27</td>\n",
       "      <td>17</td>\n",
       "    </tr>\n",
       "    <tr>\n",
       "      <th>4</th>\n",
       "      <td>2021-09-01</td>\n",
       "      <td>33101759</td>\n",
       "      <td>69</td>\n",
       "      <td>52806760</td>\n",
       "      <td>689</td>\n",
       "      <td>2021-07-30</td>\n",
       "      <td>17</td>\n",
       "    </tr>\n",
       "  </tbody>\n",
       "</table>\n",
       "</div>"
      ],
      "text/plain": [
       "        time   debt_id  portfolio_id  customer_id  agency_id assignment_date  \\\n",
       "0 2021-09-01  33212801            69     52692450        689      2021-08-31   \n",
       "1 2021-09-01  33067325            69     52771183        689      2021-04-29   \n",
       "2 2021-09-01  33252016            69     52756266        689      2020-01-14   \n",
       "3 2021-09-01  33118011            69     52652623        689      2021-02-27   \n",
       "4 2021-09-01  33101759            69     52806760        689      2021-07-30   \n",
       "\n",
       "   segment_id  \n",
       "0          17  \n",
       "1          17  \n",
       "2          17  \n",
       "3          17  \n",
       "4          17  "
      ]
     },
     "execution_count": 118,
     "metadata": {},
     "output_type": "execute_result"
    }
   ],
   "source": [
    "assingments_2.head()"
   ]
  },
  {
   "cell_type": "code",
   "execution_count": 119,
   "id": "b7ae5dde",
   "metadata": {},
   "outputs": [],
   "source": [
    "assingments_2.drop([\"portfolio_id\", \"assignment_date\"], axis=1, inplace=True)"
   ]
  },
  {
   "cell_type": "code",
   "execution_count": 120,
   "id": "15848ad5",
   "metadata": {},
   "outputs": [],
   "source": [
    "assingments = pd.concat([assingments_1, assingments_2])\n",
    "assingments[\"time\"] = pd.to_datetime(assingments[\"time\"], format=\"%Y-%m-%d\")"
   ]
  },
  {
   "cell_type": "code",
   "execution_count": 121,
   "id": "31868e00",
   "metadata": {},
   "outputs": [],
   "source": [
    "#teste\n",
    "assingments = assingments.drop_duplicates([\"time\", \"debt_id\", \"customer_id\", \"segment_id\"])"
   ]
  },
  {
   "cell_type": "code",
   "execution_count": 122,
   "id": "29036ef7",
   "metadata": {},
   "outputs": [],
   "source": [
    "count_assingments = assingments.groupby([\n",
    "    \"time\", \"debt_id\"])[\"debt_id\"].count()\n",
    "assert (count_assingments == 1).all(), (\n",
    "    \"portfolio_id: Existe algum debtos com mais de um \"\n",
    "    \"assingment\")"
   ]
  },
  {
   "cell_type": "code",
   "execution_count": 123,
   "id": "d44a6873",
   "metadata": {},
   "outputs": [
    {
     "data": {
      "text/html": [
       "<div>\n",
       "<style scoped>\n",
       "    .dataframe tbody tr th:only-of-type {\n",
       "        vertical-align: middle;\n",
       "    }\n",
       "\n",
       "    .dataframe tbody tr th {\n",
       "        vertical-align: top;\n",
       "    }\n",
       "\n",
       "    .dataframe thead th {\n",
       "        text-align: right;\n",
       "    }\n",
       "</style>\n",
       "<table border=\"1\" class=\"dataframe\">\n",
       "  <thead>\n",
       "    <tr style=\"text-align: right;\">\n",
       "      <th></th>\n",
       "      <th>time</th>\n",
       "      <th>debt_id</th>\n",
       "      <th>customer_id</th>\n",
       "      <th>agency_id</th>\n",
       "      <th>segment_id</th>\n",
       "    </tr>\n",
       "  </thead>\n",
       "  <tbody>\n",
       "    <tr>\n",
       "      <th>12207590</th>\n",
       "      <td>2021-10-01</td>\n",
       "      <td>12234496</td>\n",
       "      <td>19535534</td>\n",
       "      <td>790</td>\n",
       "      <td>18</td>\n",
       "    </tr>\n",
       "    <tr>\n",
       "      <th>13946445</th>\n",
       "      <td>2021-09-01</td>\n",
       "      <td>12234496</td>\n",
       "      <td>19535534</td>\n",
       "      <td>790</td>\n",
       "      <td>18</td>\n",
       "    </tr>\n",
       "  </tbody>\n",
       "</table>\n",
       "</div>"
      ],
      "text/plain": [
       "               time   debt_id  customer_id  agency_id  segment_id\n",
       "12207590 2021-10-01  12234496     19535534        790          18\n",
       "13946445 2021-09-01  12234496     19535534        790          18"
      ]
     },
     "execution_count": 123,
     "metadata": {},
     "output_type": "execute_result"
    }
   ],
   "source": [
    "assingments[assingments.debt_id == 12234496]"
   ]
  },
  {
   "cell_type": "code",
   "execution_count": 124,
   "id": "e8ce0861",
   "metadata": {},
   "outputs": [],
   "source": [
    "del assingments_1, assingments_2, assingments_process_portfolio"
   ]
  },
  {
   "cell_type": "markdown",
   "id": "f363125f",
   "metadata": {},
   "source": [
    "#### Ajustando as dividas da FNX, a agencia 660 e 481 devem ser agrupadas para a distribuição"
   ]
  },
  {
   "cell_type": "code",
   "execution_count": 125,
   "id": "37dccf79",
   "metadata": {},
   "outputs": [],
   "source": [
    "assingments[\"agency_id\"] = assingments[\"agency_id\"].replace({660: 481})"
   ]
  },
  {
   "cell_type": "markdown",
   "id": "fa185235",
   "metadata": {},
   "source": [
    "## Verifica as dívidas de forma distribuidas, quais estavam aptas para cobrança (não estavam em acordo ativo, ou judicializado)"
   ]
  },
  {
   "cell_type": "markdown",
   "id": "9fcb2ac3",
   "metadata": {},
   "source": [
    "#### a tabela database__debt__time_categorical é a debtcontacts para cada mês"
   ]
  },
  {
   "cell_type": "code",
   "execution_count": 126,
   "id": "a8eaa5d0",
   "metadata": {},
   "outputs": [],
   "source": [
    "#debtcontacts_columns = pd.read_parquet('s3://dlr-dev-bucket-refinedzone/pic/datamart/debtcontacts/', columns=[\"PortfolioID\",\"DebtID\", \"CustomerID\", \"DebtStatus\", \"DebtCreationDate\"])"
   ]
  },
  {
   "cell_type": "code",
   "execution_count": 127,
   "id": "b098950c",
   "metadata": {},
   "outputs": [],
   "source": [
    "#teste\n",
    "debtcontacts_columns = pd.read_csv('s3://dlr-dev-bucket-refinedzone/pic/datamart/teste/database_debt_time_categorical_202201221101.csv')"
   ]
  },
  {
   "cell_type": "code",
   "execution_count": 128,
   "id": "99343d3a",
   "metadata": {},
   "outputs": [],
   "source": [
    "#teste\n",
    "debtcontacts_columns2 = pd.read_csv('s3://dlr-dev-bucket-refinedzone/pic/datamart/teste/database_debt_time_categorical_202201221204.csv')"
   ]
  },
  {
   "cell_type": "code",
   "execution_count": 129,
   "id": "997db521",
   "metadata": {},
   "outputs": [],
   "source": [
    "debtcontacts_columns = pd.concat([debtcontacts_columns, debtcontacts_columns2])"
   ]
  },
  {
   "cell_type": "code",
   "execution_count": 132,
   "id": "d537a7e8",
   "metadata": {},
   "outputs": [],
   "source": [
    "#teste - analisar como esses dados vão vir\n",
    "#debtcontacts_columns['DebtCreationDate'] = pd.to_datetime(debtcontacts_columns['DebtCreationDate']).dt.date"
   ]
  },
  {
   "cell_type": "code",
   "execution_count": 133,
   "id": "9b9a63dd",
   "metadata": {},
   "outputs": [],
   "source": [
    "#teste - analisar como esses dados vão vir\n",
    "#debtcontacts_columns['DebtCreationDate'] = debtcontacts_columns['DebtCreationDate'].apply(lambda dt: dt.replace(day=1))"
   ]
  },
  {
   "cell_type": "code",
   "execution_count": 136,
   "id": "4de80157",
   "metadata": {},
   "outputs": [],
   "source": [
    "debtcontacts_columns[\"time\"] = pd.to_datetime(debtcontacts_columns[\"time\"])"
   ]
  },
  {
   "cell_type": "code",
   "execution_count": 138,
   "id": "ab559bfc",
   "metadata": {},
   "outputs": [],
   "source": [
    "#debt_status_1 = debtcontacts_columns[(debtcontacts_columns.DebtStatus == 7000)  & (debtcontacts_columns.PortfolioID.isin(portifolios)) & (debtcontacts_columns.DebtCreationDate == mes_atual)]"
   ]
  },
  {
   "cell_type": "code",
   "execution_count": 140,
   "id": "066bb938",
   "metadata": {},
   "outputs": [],
   "source": [
    "debt_status_1 = debtcontacts_columns[(debtcontacts_columns.debt_status == 7000)  & (debtcontacts_columns.portfolio_id.isin(portifolios)) & (debtcontacts_columns.time == mes_atual)]"
   ]
  },
  {
   "cell_type": "code",
   "execution_count": 142,
   "id": "f9881b08",
   "metadata": {},
   "outputs": [
    {
     "name": "stderr",
     "output_type": "stream",
     "text": [
      "/home/ec2-user/anaconda3/envs/python3/lib/python3.6/site-packages/ipykernel/__main__.py:1: SettingWithCopyWarning: \n",
      "A value is trying to be set on a copy of a slice from a DataFrame.\n",
      "Try using .loc[row_indexer,col_indexer] = value instead\n",
      "\n",
      "See the caveats in the documentation: https://pandas.pydata.org/pandas-docs/stable/user_guide/indexing.html#returning-a-view-versus-a-copy\n",
      "  if __name__ == '__main__':\n"
     ]
    }
   ],
   "source": [
    "debt_status_1['debt_status'] = debt_status_1['debt_status'].astype('int')"
   ]
  },
  {
   "cell_type": "code",
   "execution_count": 143,
   "id": "efb6d760",
   "metadata": {},
   "outputs": [],
   "source": [
    "#teste - analisar ordem das colunas\n",
    "debt_status_1.columns = [\"time\", \"portfolio_id\", \"debt_id\", \"customer_id\", \"debt_status\"]"
   ]
  },
  {
   "cell_type": "code",
   "execution_count": 144,
   "id": "da55bcf9",
   "metadata": {},
   "outputs": [],
   "source": [
    "val__debt_status_1 = len(debt_status_1)"
   ]
  },
  {
   "cell_type": "code",
   "execution_count": 145,
   "id": "e81742e8",
   "metadata": {},
   "outputs": [],
   "source": [
    "debt_status_1 = pd.merge(debt_status_1, segment_portfolio, validate=\"many_to_one\")"
   ]
  },
  {
   "cell_type": "code",
   "execution_count": 146,
   "id": "6196a887",
   "metadata": {},
   "outputs": [],
   "source": [
    "assert val__debt_status_1 == len(debt_status_1), \\\n",
    "            \"debt_status_1 mudou de tamanho ao inserir o segmento\""
   ]
  },
  {
   "cell_type": "code",
   "execution_count": 147,
   "id": "1636055c",
   "metadata": {},
   "outputs": [],
   "source": [
    "debt_status_1.drop([\"portfolio_id\"], axis=1, inplace=True)"
   ]
  },
  {
   "cell_type": "markdown",
   "id": "7e3d4e55",
   "metadata": {},
   "source": [
    "#### Pegando as dívidas distribuidas do mês anterior"
   ]
  },
  {
   "cell_type": "code",
   "execution_count": 150,
   "id": "596aa8ac",
   "metadata": {},
   "outputs": [],
   "source": [
    "#debt_status_2 = debtcontacts_columns[(debtcontacts_columns.DebtStatus == 7000)  & (debtcontacts_columns.PortfolioID.isin(portifolios)) & (debtcontacts_columns.DebtCreationDate == mes_anterior)]"
   ]
  },
  {
   "cell_type": "code",
   "execution_count": 151,
   "id": "ae69ef0c",
   "metadata": {},
   "outputs": [],
   "source": [
    "debt_status_2 = debtcontacts_columns[(debtcontacts_columns.debt_status == 7000)  & (debtcontacts_columns.portfolio_id.isin(portifolios)) & (debtcontacts_columns.time == mes_anterior)]"
   ]
  },
  {
   "cell_type": "code",
   "execution_count": 152,
   "id": "37d0198c",
   "metadata": {},
   "outputs": [
    {
     "name": "stderr",
     "output_type": "stream",
     "text": [
      "/home/ec2-user/anaconda3/envs/python3/lib/python3.6/site-packages/ipykernel/__main__.py:1: SettingWithCopyWarning: \n",
      "A value is trying to be set on a copy of a slice from a DataFrame.\n",
      "Try using .loc[row_indexer,col_indexer] = value instead\n",
      "\n",
      "See the caveats in the documentation: https://pandas.pydata.org/pandas-docs/stable/user_guide/indexing.html#returning-a-view-versus-a-copy\n",
      "  if __name__ == '__main__':\n"
     ]
    }
   ],
   "source": [
    "debt_status_2['debt_status'] = debt_status_2['debt_status'].astype('int')"
   ]
  },
  {
   "cell_type": "code",
   "execution_count": 153,
   "id": "4b9c0647",
   "metadata": {},
   "outputs": [],
   "source": [
    "debt_status_2.columns = [ \"time\", \"portfolio_id\", \"debt_id\",\"customer_id\", \"debt_status\"]"
   ]
  },
  {
   "cell_type": "code",
   "execution_count": 154,
   "id": "d5edc791",
   "metadata": {},
   "outputs": [],
   "source": [
    "val__debt_status_2 = len(debt_status_2)"
   ]
  },
  {
   "cell_type": "code",
   "execution_count": 155,
   "id": "68652180",
   "metadata": {},
   "outputs": [],
   "source": [
    "# Inserindo segmento em debt_status_2\n",
    "debt_status_2 = pd.merge(debt_status_2, segment_portfolio, validate=\"many_to_one\")"
   ]
  },
  {
   "cell_type": "code",
   "execution_count": 156,
   "id": "1dd46a9f",
   "metadata": {},
   "outputs": [],
   "source": [
    "assert val__debt_status_2 == len(debt_status_2), \\\n",
    "            \"debt_status_2 mudou de tamanho ao inserir o segmento\""
   ]
  },
  {
   "cell_type": "code",
   "execution_count": 157,
   "id": "0a07d855",
   "metadata": {},
   "outputs": [],
   "source": [
    "debt_status_2.drop([\"portfolio_id\"], axis=1, inplace=True)"
   ]
  },
  {
   "cell_type": "code",
   "execution_count": 158,
   "id": "605bded8",
   "metadata": {},
   "outputs": [],
   "source": [
    "debt_status = pd.concat([debt_status_1, debt_status_2])\n",
    "debt_status[\"time\"] = pd.to_datetime(debt_status[\"time\"], format=\"%Y%m\")"
   ]
  },
  {
   "cell_type": "code",
   "execution_count": 159,
   "id": "2f82e9ab",
   "metadata": {},
   "outputs": [],
   "source": [
    "debt_status[\"customer_id\"] = debt_status[\"customer_id\"].astype(int)"
   ]
  },
  {
   "cell_type": "code",
   "execution_count": 160,
   "id": "8660ef30",
   "metadata": {},
   "outputs": [],
   "source": [
    "del debt_status_1, debt_status_2, debtcontacts_columns"
   ]
  },
  {
   "cell_type": "code",
   "execution_count": 163,
   "id": "832860b6",
   "metadata": {},
   "outputs": [],
   "source": [
    "#######################################\n",
    "# Associando o status de distribuição #\n",
    "assingments_status = assingments.merge(debt_status, how=\"outer\", validate=\"one_to_one\") "
   ]
  },
  {
   "cell_type": "code",
   "execution_count": 166,
   "id": "0475c913",
   "metadata": {},
   "outputs": [],
   "source": [
    "del debt_status, assingments"
   ]
  },
  {
   "cell_type": "code",
   "execution_count": 167,
   "id": "e9548698",
   "metadata": {},
   "outputs": [],
   "source": [
    "assingments_status['debt_status'] = assingments_status['debt_status'].fillna(0)"
   ]
  },
  {
   "cell_type": "code",
   "execution_count": 168,
   "id": "564985a4",
   "metadata": {},
   "outputs": [],
   "source": [
    "assingments_status['debt_status'] = assingments_status['debt_status'].astype('int')"
   ]
  },
  {
   "cell_type": "code",
   "execution_count": 169,
   "id": "935cb9f7",
   "metadata": {},
   "outputs": [],
   "source": [
    "assingments_status['debt_status'] = assingments_status['debt_status'].astype('str')"
   ]
  },
  {
   "cell_type": "markdown",
   "id": "d7864ac1",
   "metadata": {},
   "source": [
    "####  Ajustando o status quando não tem status"
   ]
  },
  {
   "cell_type": "code",
   "execution_count": 170,
   "id": "1d3c5c30",
   "metadata": {},
   "outputs": [],
   "source": [
    "assingments_status[\"debt_status\"] = assingments_status[\"debt_status\"].replace(['0'], \"sem_status\")"
   ]
  },
  {
   "cell_type": "markdown",
   "id": "34773b65",
   "metadata": {},
   "source": [
    "#### Identifica as dívidas que estão ajuizadas"
   ]
  },
  {
   "cell_type": "code",
   "execution_count": 172,
   "id": "4d728060",
   "metadata": {},
   "outputs": [],
   "source": [
    "index_ajuizado = assingments_status[\"customer_id\"].isin(customer_ajuizado[\"customer_id\"].to_list())\n",
    "assingments_status.loc[index_ajuizado, \"debt_status\"] = \"ajuizado\""
   ]
  },
  {
   "cell_type": "code",
   "execution_count": 173,
   "id": "78fa0ebb",
   "metadata": {},
   "outputs": [],
   "source": [
    "# index_na_month = assingments_status[\"months_in_agency\"].isna()\n",
    "# assingments_status = assingments_status[~index_na_month].copy()"
   ]
  },
  {
   "cell_type": "markdown",
   "id": "210993bf",
   "metadata": {},
   "source": [
    "#### Informações da dívida "
   ]
  },
  {
   "cell_type": "code",
   "execution_count": 174,
   "id": "2ee629e5",
   "metadata": {},
   "outputs": [],
   "source": [
    "debtcontacts = pd.read_parquet('s3://dlr-dev-bucket-refinedzone/pic/datamart/debtcontacts/', columns=[\"PortfolioID\", \"Portfolio\", \"DebtID\", \"Products\", \"FirstDefaultDate\", \"OriginalFirstDefaultBalance\"])"
   ]
  },
  {
   "cell_type": "code",
   "execution_count": 175,
   "id": "faf2bd4b",
   "metadata": {},
   "outputs": [],
   "source": [
    "debt_info = debtcontacts[debtcontacts.PortfolioID.isin(portifolios)]"
   ]
  },
  {
   "cell_type": "code",
   "execution_count": 176,
   "id": "b0b2781d",
   "metadata": {},
   "outputs": [],
   "source": [
    "del debtcontacts"
   ]
  },
  {
   "cell_type": "code",
   "execution_count": 177,
   "id": "809c5828",
   "metadata": {},
   "outputs": [],
   "source": [
    "debt_info = debt_info.rename(columns={\"PortfolioID\":\"portfolio_id\", \"Portfolio\":\"portfolio\", \"DebtID\": \"debt_id\", \"Products\": \"products\", \"OriginalFirstDefaultBalance\":\"reference_balance\", \"FirstDefaultDate\":\"first_default_date\"})"
   ]
  },
  {
   "cell_type": "markdown",
   "id": "5bb2efa5",
   "metadata": {},
   "source": [
    "#### Fazendo o cálculo de idade da dívida para meses completos "
   ]
  },
  {
   "cell_type": "code",
   "execution_count": 178,
   "id": "dbba3ed4",
   "metadata": {},
   "outputs": [],
   "source": [
    "debt_info[\"first_default_date\"] = debt_info[\"first_default_date\"].dt.floor(\"d\") - pd.offsets.MonthBegin(1)"
   ]
  },
  {
   "cell_type": "code",
   "execution_count": 179,
   "id": "80cc1cb5",
   "metadata": {},
   "outputs": [
    {
     "data": {
      "text/html": [
       "<div>\n",
       "<style scoped>\n",
       "    .dataframe tbody tr th:only-of-type {\n",
       "        vertical-align: middle;\n",
       "    }\n",
       "\n",
       "    .dataframe tbody tr th {\n",
       "        vertical-align: top;\n",
       "    }\n",
       "\n",
       "    .dataframe thead th {\n",
       "        text-align: right;\n",
       "    }\n",
       "</style>\n",
       "<table border=\"1\" class=\"dataframe\">\n",
       "  <thead>\n",
       "    <tr style=\"text-align: right;\">\n",
       "      <th></th>\n",
       "      <th>portfolio_id</th>\n",
       "      <th>portfolio</th>\n",
       "      <th>debt_id</th>\n",
       "      <th>products</th>\n",
       "      <th>first_default_date</th>\n",
       "      <th>reference_balance</th>\n",
       "    </tr>\n",
       "  </thead>\n",
       "  <tbody>\n",
       "    <tr>\n",
       "      <th>0</th>\n",
       "      <td>79.0</td>\n",
       "      <td>Santander</td>\n",
       "      <td>12230411.0</td>\n",
       "      <td>Capital de Giro</td>\n",
       "      <td>1998-06-01</td>\n",
       "      <td>706433.00</td>\n",
       "    </tr>\n",
       "    <tr>\n",
       "      <th>1</th>\n",
       "      <td>79.0</td>\n",
       "      <td>Santander</td>\n",
       "      <td>12230412.0</td>\n",
       "      <td>Cartão de Crédito</td>\n",
       "      <td>2011-03-01</td>\n",
       "      <td>655.62</td>\n",
       "    </tr>\n",
       "    <tr>\n",
       "      <th>2</th>\n",
       "      <td>79.0</td>\n",
       "      <td>Santander</td>\n",
       "      <td>12230413.0</td>\n",
       "      <td>Cartão de Crédito</td>\n",
       "      <td>2012-02-01</td>\n",
       "      <td>694.36</td>\n",
       "    </tr>\n",
       "    <tr>\n",
       "      <th>3</th>\n",
       "      <td>79.0</td>\n",
       "      <td>Santander</td>\n",
       "      <td>12230414.0</td>\n",
       "      <td>Cartão de Crédito</td>\n",
       "      <td>2010-09-01</td>\n",
       "      <td>10.70</td>\n",
       "    </tr>\n",
       "    <tr>\n",
       "      <th>4</th>\n",
       "      <td>79.0</td>\n",
       "      <td>Santander</td>\n",
       "      <td>12230416.0</td>\n",
       "      <td>Cartão de Crédito</td>\n",
       "      <td>2010-12-01</td>\n",
       "      <td>248.11</td>\n",
       "    </tr>\n",
       "  </tbody>\n",
       "</table>\n",
       "</div>"
      ],
      "text/plain": [
       "   portfolio_id  portfolio     debt_id           products first_default_date  \\\n",
       "0          79.0  Santander  12230411.0    Capital de Giro         1998-06-01   \n",
       "1          79.0  Santander  12230412.0  Cartão de Crédito         2011-03-01   \n",
       "2          79.0  Santander  12230413.0  Cartão de Crédito         2012-02-01   \n",
       "3          79.0  Santander  12230414.0  Cartão de Crédito         2010-09-01   \n",
       "4          79.0  Santander  12230416.0  Cartão de Crédito         2010-12-01   \n",
       "\n",
       "  reference_balance  \n",
       "0         706433.00  \n",
       "1            655.62  \n",
       "2            694.36  \n",
       "3             10.70  \n",
       "4            248.11  "
      ]
     },
     "execution_count": 179,
     "metadata": {},
     "output_type": "execute_result"
    }
   ],
   "source": [
    "debt_info.head()"
   ]
  },
  {
   "cell_type": "code",
   "execution_count": 180,
   "id": "f6ef1ace",
   "metadata": {},
   "outputs": [],
   "source": [
    "len_assingments = len(assingments_status)"
   ]
  },
  {
   "cell_type": "code",
   "execution_count": 181,
   "id": "bc9ecc3b",
   "metadata": {},
   "outputs": [],
   "source": [
    "assingments_status = debt_info.merge(assingments_status, validate=\"one_to_many\")"
   ]
  },
  {
   "cell_type": "code",
   "execution_count": 182,
   "id": "bc4aff49",
   "metadata": {},
   "outputs": [],
   "source": [
    "assert len_assingments == len(assingments_status), (\"Algumas dívidas distribuidas não tem debt info.\")"
   ]
  },
  {
   "cell_type": "markdown",
   "id": "b5a14297",
   "metadata": {},
   "source": [
    "### Query para cash novo deve pegar os dados do mês de distribuição e do mês anterior"
   ]
  },
  {
   "cell_type": "code",
   "execution_count": 183,
   "id": "d2d708c1",
   "metadata": {},
   "outputs": [],
   "source": [
    "#teste\n",
    "mes_anterior = pd.to_datetime('2021-09-01', format=\"%Y-%m-%d\")\n",
    "mes_atual = pd.to_datetime('2021-10-01', format=\"%Y-%m-%d\")"
   ]
  },
  {
   "cell_type": "code",
   "execution_count": 185,
   "id": "715170e6",
   "metadata": {},
   "outputs": [],
   "source": [
    "payments[\"RefDate\"] = pd.to_datetime(payments[\"RefDate\"], format='%Y%m')"
   ]
  },
  {
   "cell_type": "code",
   "execution_count": 186,
   "id": "0f0f0fb2",
   "metadata": {},
   "outputs": [],
   "source": [
    "cash_novo = payments[(payments.PortfolioID.isin(portifolios)) & (payments.CashType == 'cash_novo') & (payments.RefDate.isin([mes_atual, mes_anterior]))][[\"RefDate\", \"PortfolioID\", \"DebtID\", \"CustomerID\", \"AgencyID\", \"CollectionAmount\" ]]"
   ]
  },
  {
   "cell_type": "code",
   "execution_count": 187,
   "id": "ca8df804",
   "metadata": {},
   "outputs": [],
   "source": [
    "cash_novo = cash_novo.rename(columns={\"RefDate\":\"time\", \"PortfolioID\":\"portfolio_id\", \"DebtID\":\"debt_id\", \"CustomerID\":\"customer_id\", \"AgencyID\":\"agency_id\", \"CollectionAmount\":\"cash_novo\"})"
   ]
  },
  {
   "cell_type": "markdown",
   "id": "50596f2b",
   "metadata": {},
   "source": [
    "#### Ajustando as dividas da FNX, a agencia 660 e 481 devem ser agrupadas para a distribuição"
   ]
  },
  {
   "cell_type": "code",
   "execution_count": 189,
   "id": "25a3faaa",
   "metadata": {},
   "outputs": [],
   "source": [
    "cash_novo[\"agency_id\"] = cash_novo[\"agency_id\"].replace({660: 481})"
   ]
  },
  {
   "cell_type": "code",
   "execution_count": 190,
   "id": "baf61172",
   "metadata": {},
   "outputs": [],
   "source": [
    "cash_novo[\"cash_novo\"] = pd.to_numeric(cash_novo[\"cash_novo\"])"
   ]
  },
  {
   "cell_type": "code",
   "execution_count": 192,
   "id": "063e667e",
   "metadata": {},
   "outputs": [],
   "source": [
    "cash_novo = cash_novo.groupby([\"time\", \"portfolio_id\", \"debt_id\", \"agency_id\", \"customer_id\"], as_index=False, observed=True)[\"cash_novo\"].sum()"
   ]
  },
  {
   "cell_type": "code",
   "execution_count": 196,
   "id": "6a04ba81",
   "metadata": {},
   "outputs": [],
   "source": [
    "assingments_status = assingments_status.merge(cash_novo,  how=\"left\", validate=\"one_to_one\")"
   ]
  },
  {
   "cell_type": "code",
   "execution_count": 197,
   "id": "c6adabb7",
   "metadata": {},
   "outputs": [],
   "source": [
    "assingments_status[\"cash_novo\"] = assingments_status[\"cash_novo\"].fillna(value=0)"
   ]
  },
  {
   "cell_type": "markdown",
   "id": "9227b74e",
   "metadata": {},
   "source": [
    "### Calculando os cortes "
   ]
  },
  {
   "cell_type": "code",
   "execution_count": 199,
   "id": "9d78a784",
   "metadata": {},
   "outputs": [],
   "source": [
    "delta_days = assingments_status[\"time\"] - assingments_status[\"first_default_date\"]\n",
    "debt_age_years = (delta_days / np.timedelta64(1, \"M\")).round() / 12"
   ]
  },
  {
   "cell_type": "code",
   "execution_count": 200,
   "id": "acac40aa",
   "metadata": {},
   "outputs": [],
   "source": [
    "debt_age_years_cut = pd.cut(debt_age_years, bins=cuts_age, right=True, labels=cuts_age[:-1])"
   ]
  },
  {
   "cell_type": "code",
   "execution_count": 201,
   "id": "69aa8be0",
   "metadata": {},
   "outputs": [],
   "source": [
    "# assert not debt_age_years_cut.isna().any(), (\n",
    "#             \"Algum corte do debt age está sendo feito errado.\")"
   ]
  },
  {
   "cell_type": "code",
   "execution_count": 202,
   "id": "eb76d1e3",
   "metadata": {},
   "outputs": [],
   "source": [
    "assingments_status[\"debt_age_years_cut\"] = debt_age_years_cut"
   ]
  },
  {
   "cell_type": "code",
   "execution_count": 203,
   "id": "a08bd959",
   "metadata": {},
   "outputs": [
    {
     "data": {
      "text/html": [
       "<div>\n",
       "<style scoped>\n",
       "    .dataframe tbody tr th:only-of-type {\n",
       "        vertical-align: middle;\n",
       "    }\n",
       "\n",
       "    .dataframe tbody tr th {\n",
       "        vertical-align: top;\n",
       "    }\n",
       "\n",
       "    .dataframe thead th {\n",
       "        text-align: right;\n",
       "    }\n",
       "</style>\n",
       "<table border=\"1\" class=\"dataframe\">\n",
       "  <thead>\n",
       "    <tr style=\"text-align: right;\">\n",
       "      <th></th>\n",
       "      <th>portfolio_id</th>\n",
       "      <th>portfolio</th>\n",
       "      <th>debt_id</th>\n",
       "      <th>products</th>\n",
       "      <th>first_default_date</th>\n",
       "      <th>reference_balance</th>\n",
       "      <th>time</th>\n",
       "      <th>customer_id</th>\n",
       "      <th>agency_id</th>\n",
       "      <th>segment_id</th>\n",
       "      <th>debt_status</th>\n",
       "      <th>cash_novo</th>\n",
       "      <th>debt_age_years_cut</th>\n",
       "    </tr>\n",
       "  </thead>\n",
       "  <tbody>\n",
       "    <tr>\n",
       "      <th>2256397</th>\n",
       "      <td>82.0</td>\n",
       "      <td>CitiBank3</td>\n",
       "      <td>14070125.0</td>\n",
       "      <td>None</td>\n",
       "      <td>NaT</td>\n",
       "      <td>None</td>\n",
       "      <td>2021-10-01</td>\n",
       "      <td>26937568</td>\n",
       "      <td>481.0</td>\n",
       "      <td>11</td>\n",
       "      <td>7000</td>\n",
       "      <td>0.0</td>\n",
       "      <td>NaN</td>\n",
       "    </tr>\n",
       "    <tr>\n",
       "      <th>2256398</th>\n",
       "      <td>82.0</td>\n",
       "      <td>CitiBank3</td>\n",
       "      <td>14070125.0</td>\n",
       "      <td>None</td>\n",
       "      <td>NaT</td>\n",
       "      <td>None</td>\n",
       "      <td>2021-09-01</td>\n",
       "      <td>26937568</td>\n",
       "      <td>481.0</td>\n",
       "      <td>11</td>\n",
       "      <td>7000</td>\n",
       "      <td>0.0</td>\n",
       "      <td>NaN</td>\n",
       "    </tr>\n",
       "  </tbody>\n",
       "</table>\n",
       "</div>"
      ],
      "text/plain": [
       "         portfolio_id  portfolio     debt_id products first_default_date  \\\n",
       "2256397          82.0  CitiBank3  14070125.0     None                NaT   \n",
       "2256398          82.0  CitiBank3  14070125.0     None                NaT   \n",
       "\n",
       "        reference_balance       time  customer_id  agency_id  segment_id  \\\n",
       "2256397              None 2021-10-01     26937568      481.0          11   \n",
       "2256398              None 2021-09-01     26937568      481.0          11   \n",
       "\n",
       "        debt_status  cash_novo debt_age_years_cut  \n",
       "2256397        7000        0.0                NaN  \n",
       "2256398        7000        0.0                NaN  "
      ]
     },
     "execution_count": 203,
     "metadata": {},
     "output_type": "execute_result"
    }
   ],
   "source": [
    "teste\n",
    "assingments_status[assingments_status[\"debt_age_years_cut\"].isna()]"
   ]
  },
  {
   "cell_type": "code",
   "execution_count": 204,
   "id": "dd1ded2f",
   "metadata": {},
   "outputs": [],
   "source": [
    "# assert not assingments_status.isna().any().any(),\\\n",
    "#             \"Sobrou algum NA na base de dados.\""
   ]
  },
  {
   "cell_type": "code",
   "execution_count": 205,
   "id": "3d256fc4",
   "metadata": {},
   "outputs": [],
   "source": [
    "assingments_status = assingments_status[~assingments_status[\"debt_age_years_cut\"].isna()]"
   ]
  },
  {
   "cell_type": "code",
   "execution_count": 206,
   "id": "5ab4aadc",
   "metadata": {},
   "outputs": [],
   "source": [
    "##############################################\n",
    "# Ponderando por 60/40 #poderacao__cash_novo #\n",
    "# Para o calculo da eficiencia considera todo o valor de cash novo\n",
    "poderacao__cash_novo = assingments_status.groupby([\"time\", \"agency_id\", \"segment_id\", \"products\",\"debt_age_years_cut\"], as_index=False, observed=True)[\"cash_novo\"].sum()"
   ]
  },
  {
   "cell_type": "code",
   "execution_count": 207,
   "id": "9ee2c4cb",
   "metadata": {},
   "outputs": [],
   "source": [
    "cash_mes_atual = poderacao__cash_novo[poderacao__cash_novo[\"time\"] == pd.to_datetime(mes_atual, format=\"%Y-%m-%d\")].rename(columns={\"cash_novo\": \"cash_novo__mes_atual\"})"
   ]
  },
  {
   "cell_type": "code",
   "execution_count": 208,
   "id": "7cac0d7a",
   "metadata": {},
   "outputs": [],
   "source": [
    "del cash_mes_atual[\"time\"]"
   ]
  },
  {
   "cell_type": "code",
   "execution_count": 209,
   "id": "3c2c514f",
   "metadata": {},
   "outputs": [],
   "source": [
    "cash_mes_anterior = poderacao__cash_novo[poderacao__cash_novo[\"time\"] == pd.to_datetime(mes_anterior, format=\"%Y-%m-%d\")].rename(columns={\"cash_novo\": \"cash_novo__mes_anterior\"})"
   ]
  },
  {
   "cell_type": "code",
   "execution_count": 210,
   "id": "1f42468e",
   "metadata": {},
   "outputs": [],
   "source": [
    "del cash_mes_anterior[\"time\"]"
   ]
  },
  {
   "cell_type": "code",
   "execution_count": 211,
   "id": "f00b50f9",
   "metadata": {},
   "outputs": [],
   "source": [
    "merged_cash = cash_mes_anterior.merge(cash_mes_atual, how=\"outer\")"
   ]
  },
  {
   "cell_type": "code",
   "execution_count": 212,
   "id": "ac7cc1bc",
   "metadata": {},
   "outputs": [],
   "source": [
    "assingment_status_corrigido = assingments_status.convert_dtypes()"
   ]
  },
  {
   "cell_type": "code",
   "execution_count": 213,
   "id": "305504bb",
   "metadata": {},
   "outputs": [],
   "source": [
    "assingments_status['debt_status'] = assingment_status_corrigido[\"debt_status\"].astype('str')"
   ]
  },
  {
   "cell_type": "markdown",
   "id": "194ec8d0",
   "metadata": {},
   "source": [
    "### Para o calculo da eficiencia considerar apenas o valor de face livre (dívidas disponíveis) que está disponível em 7000 e que não está ajuizado\n"
   ]
  },
  {
   "cell_type": "code",
   "execution_count": 214,
   "id": "c11fcf45",
   "metadata": {},
   "outputs": [],
   "source": [
    "index_dividas_livres = assingments_status[\"debt_status\"] == '7000'"
   ]
  },
  {
   "cell_type": "code",
   "execution_count": 215,
   "id": "213340f2",
   "metadata": {},
   "outputs": [],
   "source": [
    "poderacao__reference_balance = assingments_status[index_dividas_livres].groupby([\"time\", \"agency_id\", \"segment_id\", \"products\", \"debt_age_years_cut\"],as_index=False, observed=True)[\"reference_balance\"].sum()"
   ]
  },
  {
   "cell_type": "code",
   "execution_count": 216,
   "id": "c96172b4",
   "metadata": {},
   "outputs": [],
   "source": [
    "index_actual = poderacao__reference_balance[\"time\"] == pd.to_datetime(mes_atual, format=\"%Y-%m-%d\")"
   ]
  },
  {
   "cell_type": "code",
   "execution_count": 217,
   "id": "8cc48f9d",
   "metadata": {},
   "outputs": [],
   "source": [
    "face_mes_atual = poderacao__reference_balance[index_actual].rename(columns={\"reference_balance\": \"face__total_cobranca__mes_atual\"})"
   ]
  },
  {
   "cell_type": "code",
   "execution_count": 218,
   "id": "9ca727b7",
   "metadata": {},
   "outputs": [],
   "source": [
    "del face_mes_atual[\"time\"]"
   ]
  },
  {
   "cell_type": "code",
   "execution_count": 219,
   "id": "4192677e",
   "metadata": {},
   "outputs": [],
   "source": [
    "index_previous = poderacao__reference_balance[\"time\"] == pd.to_datetime(mes_anterior, format=\"%Y-%m-%d\")\n",
    "face_mes_anterior = poderacao__reference_balance[index_previous].rename(columns={\"reference_balance\": \"face__total_cobranca__mes_anterior\"})"
   ]
  },
  {
   "cell_type": "code",
   "execution_count": 220,
   "id": "f64e5a91",
   "metadata": {},
   "outputs": [],
   "source": [
    "del face_mes_anterior[\"time\"]"
   ]
  },
  {
   "cell_type": "code",
   "execution_count": 221,
   "id": "cc720bca",
   "metadata": {},
   "outputs": [],
   "source": [
    "merged_face = face_mes_anterior.merge(face_mes_atual, how=\"outer\")"
   ]
  },
  {
   "cell_type": "code",
   "execution_count": 222,
   "id": "161eb1eb",
   "metadata": {},
   "outputs": [],
   "source": [
    "# Unindo as duas bases\n",
    "# poderacao = poderacao__cash_novo.merge(poderacao__reference_balance, validate=\"one_to_one\",how=\"outer\")\n",
    "# poderacao[\"cash_novo\"].fillna(value=0, inplace=True)"
   ]
  },
  {
   "cell_type": "code",
   "execution_count": 223,
   "id": "44eb3f77",
   "metadata": {},
   "outputs": [],
   "source": [
    "# validando ponderacao\n",
    "# index_na_reference_balance = poderacao[\"reference_balance\"].isna()\n",
    "# if index_na_reference_balance.any():\n",
    "#     poderacao[\"reference_balance\"].fillna(value=0, inplace=True)\n",
    "#     poderacao = poderacao[poderacao[\"reference_balance\"] != 0].copy()"
   ]
  },
  {
   "cell_type": "markdown",
   "id": "e66e97c9",
   "metadata": {},
   "source": [
    " Taiane, não entendi a celula abaixo, é pra executar ou não?"
   ]
  },
  {
   "cell_type": "code",
   "execution_count": 224,
   "id": "3cb05cf6",
   "metadata": {},
   "outputs": [],
   "source": [
    "# poderacao.reset_index(inplace=True)"
   ]
  },
  {
   "cell_type": "code",
   "execution_count": 225,
   "id": "9f8c6054",
   "metadata": {},
   "outputs": [],
   "source": [
    "efficiencia = merged_cash.merge(merged_face, how=\"outer\")#.merge(poderacao)"
   ]
  },
  {
   "cell_type": "code",
   "execution_count": 226,
   "id": "c2d429f0",
   "metadata": {},
   "outputs": [],
   "source": [
    "#new_assignments_template são as dívidas que estão disponíveis no momento da otimização\n",
    "assingments_7000 = new_assignments_template"
   ]
  },
  {
   "cell_type": "code",
   "execution_count": 227,
   "id": "7f3afc37",
   "metadata": {},
   "outputs": [
    {
     "data": {
      "text/plain": [
       "1758427"
      ]
     },
     "execution_count": 227,
     "metadata": {},
     "output_type": "execute_result"
    }
   ],
   "source": [
    "len(new_assignments_template)"
   ]
  },
  {
   "cell_type": "code",
   "execution_count": 228,
   "id": "0c47a7cb",
   "metadata": {},
   "outputs": [
    {
     "data": {
      "text/html": [
       "<div>\n",
       "<style scoped>\n",
       "    .dataframe tbody tr th:only-of-type {\n",
       "        vertical-align: middle;\n",
       "    }\n",
       "\n",
       "    .dataframe tbody tr th {\n",
       "        vertical-align: top;\n",
       "    }\n",
       "\n",
       "    .dataframe thead th {\n",
       "        text-align: right;\n",
       "    }\n",
       "</style>\n",
       "<table border=\"1\" class=\"dataframe\">\n",
       "  <thead>\n",
       "    <tr style=\"text-align: right;\">\n",
       "      <th></th>\n",
       "      <th>assignment_time</th>\n",
       "      <th>portfolio_id</th>\n",
       "      <th>debt_id</th>\n",
       "      <th>customer_id</th>\n",
       "      <th>agency_id</th>\n",
       "      <th>binding_id</th>\n",
       "    </tr>\n",
       "  </thead>\n",
       "  <tbody>\n",
       "    <tr>\n",
       "      <th>818080</th>\n",
       "      <td>2021-02-27</td>\n",
       "      <td>46.0</td>\n",
       "      <td>14070137</td>\n",
       "      <td>26969668.0</td>\n",
       "      <td>481</td>\n",
       "      <td>14154373.0</td>\n",
       "    </tr>\n",
       "    <tr>\n",
       "      <th>1621317</th>\n",
       "      <td>2021-06-02</td>\n",
       "      <td>46.0</td>\n",
       "      <td>14070139</td>\n",
       "      <td>26965502.0</td>\n",
       "      <td>640</td>\n",
       "      <td>14369179.0</td>\n",
       "    </tr>\n",
       "    <tr>\n",
       "      <th>649186</th>\n",
       "      <td>2021-05-28</td>\n",
       "      <td>46.0</td>\n",
       "      <td>14070141</td>\n",
       "      <td>26988066.0</td>\n",
       "      <td>691</td>\n",
       "      <td>14152418.0</td>\n",
       "    </tr>\n",
       "    <tr>\n",
       "      <th>1672105</th>\n",
       "      <td>2021-06-29</td>\n",
       "      <td>46.0</td>\n",
       "      <td>14070144</td>\n",
       "      <td>26965416.0</td>\n",
       "      <td>635</td>\n",
       "      <td>14163849.0</td>\n",
       "    </tr>\n",
       "    <tr>\n",
       "      <th>838719</th>\n",
       "      <td>2021-08-31</td>\n",
       "      <td>46.0</td>\n",
       "      <td>14070157</td>\n",
       "      <td>26976693.0</td>\n",
       "      <td>481</td>\n",
       "      <td>14167591.0</td>\n",
       "    </tr>\n",
       "  </tbody>\n",
       "</table>\n",
       "</div>"
      ],
      "text/plain": [
       "        assignment_time  portfolio_id   debt_id  customer_id  agency_id  \\\n",
       "818080       2021-02-27          46.0  14070137   26969668.0        481   \n",
       "1621317      2021-06-02          46.0  14070139   26965502.0        640   \n",
       "649186       2021-05-28          46.0  14070141   26988066.0        691   \n",
       "1672105      2021-06-29          46.0  14070144   26965416.0        635   \n",
       "838719       2021-08-31          46.0  14070157   26976693.0        481   \n",
       "\n",
       "         binding_id  \n",
       "818080   14154373.0  \n",
       "1621317  14369179.0  \n",
       "649186   14152418.0  \n",
       "1672105  14163849.0  \n",
       "838719   14167591.0  "
      ]
     },
     "execution_count": 228,
     "metadata": {},
     "output_type": "execute_result"
    }
   ],
   "source": [
    "new_assignments_template.head()"
   ]
  },
  {
   "cell_type": "code",
   "execution_count": 229,
   "id": "d7b6ee6c",
   "metadata": {},
   "outputs": [],
   "source": [
    "del new_assignments_template"
   ]
  },
  {
   "cell_type": "code",
   "execution_count": 230,
   "id": "0c7d3fa6",
   "metadata": {},
   "outputs": [],
   "source": [
    "assingments_7000[\"agency_id\"] = assingments_7000[\"agency_id\"].replace({660: 481})"
   ]
  },
  {
   "cell_type": "code",
   "execution_count": 231,
   "id": "1a59b996",
   "metadata": {},
   "outputs": [],
   "source": [
    "# Validando se assingments_7000 vem informações\n",
    "if(len(assingments_7000) < 1):\n",
    "    print(\"O portflio {} não tem assingments_7000\")\n",
    "    base_otimizacao = pd.DataFrame([])\n",
    "    debts_livres: pd.DataFrame([])"
   ]
  },
  {
   "cell_type": "code",
   "execution_count": 232,
   "id": "36200db0",
   "metadata": {},
   "outputs": [],
   "source": [
    "###################################################################\n",
    "# Colocando uma margem de 10 dias para o caso de dividas que são\n",
    "# distribuidas até o dia 10 ainda são consideradas com parte do mes\n",
    "# as que forem posteriores a 10 dias passam a ser consideradas como\n",
    "# distribuidas no próximo mês\n",
    "assingments_7000[\"reference_month\"] = (assingments_7000[\"assignment_time\"] - pd.offsets.Day(11)) + pd.offsets.MonthBegin(1)"
   ]
  },
  {
   "cell_type": "code",
   "execution_count": 233,
   "id": "59320214",
   "metadata": {},
   "outputs": [
    {
     "data": {
      "text/html": [
       "<div>\n",
       "<style scoped>\n",
       "    .dataframe tbody tr th:only-of-type {\n",
       "        vertical-align: middle;\n",
       "    }\n",
       "\n",
       "    .dataframe tbody tr th {\n",
       "        vertical-align: top;\n",
       "    }\n",
       "\n",
       "    .dataframe thead th {\n",
       "        text-align: right;\n",
       "    }\n",
       "</style>\n",
       "<table border=\"1\" class=\"dataframe\">\n",
       "  <thead>\n",
       "    <tr style=\"text-align: right;\">\n",
       "      <th></th>\n",
       "      <th>assignment_time</th>\n",
       "      <th>portfolio_id</th>\n",
       "      <th>debt_id</th>\n",
       "      <th>customer_id</th>\n",
       "      <th>agency_id</th>\n",
       "      <th>binding_id</th>\n",
       "      <th>reference_month</th>\n",
       "    </tr>\n",
       "  </thead>\n",
       "  <tbody>\n",
       "    <tr>\n",
       "      <th>818080</th>\n",
       "      <td>2021-02-27</td>\n",
       "      <td>46.0</td>\n",
       "      <td>14070137</td>\n",
       "      <td>26969668.0</td>\n",
       "      <td>481</td>\n",
       "      <td>14154373.0</td>\n",
       "      <td>2021-03-01</td>\n",
       "    </tr>\n",
       "    <tr>\n",
       "      <th>1621317</th>\n",
       "      <td>2021-06-02</td>\n",
       "      <td>46.0</td>\n",
       "      <td>14070139</td>\n",
       "      <td>26965502.0</td>\n",
       "      <td>640</td>\n",
       "      <td>14369179.0</td>\n",
       "      <td>2021-06-01</td>\n",
       "    </tr>\n",
       "    <tr>\n",
       "      <th>649186</th>\n",
       "      <td>2021-05-28</td>\n",
       "      <td>46.0</td>\n",
       "      <td>14070141</td>\n",
       "      <td>26988066.0</td>\n",
       "      <td>691</td>\n",
       "      <td>14152418.0</td>\n",
       "      <td>2021-06-01</td>\n",
       "    </tr>\n",
       "    <tr>\n",
       "      <th>1672105</th>\n",
       "      <td>2021-06-29</td>\n",
       "      <td>46.0</td>\n",
       "      <td>14070144</td>\n",
       "      <td>26965416.0</td>\n",
       "      <td>635</td>\n",
       "      <td>14163849.0</td>\n",
       "      <td>2021-07-01</td>\n",
       "    </tr>\n",
       "    <tr>\n",
       "      <th>838719</th>\n",
       "      <td>2021-08-31</td>\n",
       "      <td>46.0</td>\n",
       "      <td>14070157</td>\n",
       "      <td>26976693.0</td>\n",
       "      <td>481</td>\n",
       "      <td>14167591.0</td>\n",
       "      <td>2021-09-01</td>\n",
       "    </tr>\n",
       "  </tbody>\n",
       "</table>\n",
       "</div>"
      ],
      "text/plain": [
       "        assignment_time  portfolio_id   debt_id  customer_id  agency_id  \\\n",
       "818080       2021-02-27          46.0  14070137   26969668.0        481   \n",
       "1621317      2021-06-02          46.0  14070139   26965502.0        640   \n",
       "649186       2021-05-28          46.0  14070141   26988066.0        691   \n",
       "1672105      2021-06-29          46.0  14070144   26965416.0        635   \n",
       "838719       2021-08-31          46.0  14070157   26976693.0        481   \n",
       "\n",
       "         binding_id reference_month  \n",
       "818080   14154373.0      2021-03-01  \n",
       "1621317  14369179.0      2021-06-01  \n",
       "649186   14152418.0      2021-06-01  \n",
       "1672105  14163849.0      2021-07-01  \n",
       "838719   14167591.0      2021-09-01  "
      ]
     },
     "execution_count": 233,
     "metadata": {},
     "output_type": "execute_result"
    }
   ],
   "source": [
    "assingments_7000.head()"
   ]
  },
  {
   "cell_type": "code",
   "execution_count": 234,
   "id": "e6673a7a",
   "metadata": {},
   "outputs": [],
   "source": [
    "optimization_month = pd.to_datetime('2021-11-01')"
   ]
  },
  {
   "cell_type": "code",
   "execution_count": 235,
   "id": "f4957dd0",
   "metadata": {},
   "outputs": [],
   "source": [
    "assingments_7000[\"months_in_agency_opt_month\"] = ((optimization_month - assingments_7000[\"reference_month\"])/np.timedelta64(1, \"M\")).round()"
   ]
  },
  {
   "cell_type": "code",
   "execution_count": 236,
   "id": "ad56d2aa",
   "metadata": {},
   "outputs": [],
   "source": [
    "# O prazo para a distribuição das dívidas é de 3 meses no escritório\n",
    "# após 4 meses as dívidas são consideradas disponíveis para a\n",
    "# redistribuição\n",
    "assingments_7000[\"debt_status\"] = \"decurso de prazo\""
   ]
  },
  {
   "cell_type": "code",
   "execution_count": 237,
   "id": "69ca1970",
   "metadata": {},
   "outputs": [],
   "source": [
    "assingments_7000.loc[ assingments_7000[\"months_in_agency_opt_month\"] <= 3, \"debt_status\"] = \"menor 4M\""
   ]
  },
  {
   "cell_type": "code",
   "execution_count": 238,
   "id": "e9c5b0b7",
   "metadata": {},
   "outputs": [],
   "source": [
    "# Marcando as dívidas que estão ajuizadas para que não estejam\n",
    "# disponíveis para a redistribuição\n",
    "index_ajuizado = assingments_7000[\"customer_id\"].isin(customer_ajuizado[\"customer_id\"])\n",
    "assingments_7000.loc[index_ajuizado, \"debt_status\"] = \"ajuizado\""
   ]
  },
  {
   "cell_type": "code",
   "execution_count": 239,
   "id": "84743afc",
   "metadata": {},
   "outputs": [],
   "source": [
    "# Verificando quais dividas não possuem bindingid_null\n",
    "# elas não podem ser distribuidos\n",
    "index_bindingid_null = assingments_7000[\"debt_id\"].isin(debt_bindingid_null[\"debt_id\"].to_list())\n",
    "assingments_7000.loc[index_bindingid_null, \"debt_status\"] = \"bindingid_null\""
   ]
  },
  {
   "cell_type": "code",
   "execution_count": 241,
   "id": "2357328a",
   "metadata": {},
   "outputs": [],
   "source": [
    "# Criando segment id na base de assigments\n",
    "assingments_7000 = assingments_7000.merge(segment_portfolio, on=\"portfolio_id\", validate=\"many_to_one\")"
   ]
  },
  {
   "cell_type": "code",
   "execution_count": 242,
   "id": "d2dc8c88",
   "metadata": {},
   "outputs": [],
   "source": [
    "val__segment = assingments_7000[[\"portfolio_id\", \"segment_id\"]].drop_duplicates().groupby(\"portfolio_id\")[\"segment_id\"].count()\n",
    "assert (val__segment.values == 1).all(), \\\n",
    "    \"Há portfolios vinculados a mais de um segmento\""
   ]
  },
  {
   "cell_type": "code",
   "execution_count": 243,
   "id": "c065f510",
   "metadata": {},
   "outputs": [],
   "source": [
    "val__restriction = len(AssignmentsOptimizationRestrictive[AssignmentsOptimizationRestrictive.DistributionDate == reference_date])"
   ]
  },
  {
   "cell_type": "code",
   "execution_count": 244,
   "id": "d9387fc5",
   "metadata": {},
   "outputs": [],
   "source": [
    "# Verificando quais escritórios são permitidos de cobrar as dívidas\n",
    "# caso o escritório não esteja is_enabled todos as dívidas são\n",
    "# colocadas para distribuição\n",
    "if val__restriction == 0:\n",
    "    # Se não foram carregados segmentos, considerar todos como\n",
    "    # disponíveis para receber dívidas\n",
    "    assingments_7000[\"is_enabled\"] = True\n",
    "    assingments_7000[\"enforced_flag\"] = False\n",
    "else:\n",
    "    # Caso contrário consiera os segmentos que não foram colocados\n",
    "    # como não disponíveis\n",
    "    assingments_7000 = assingments_7000.merge(\n",
    "        segment_restriction[[\n",
    "            'segment_id', 'agency_id', 'is_enabled', 'enforced_flag']],\n",
    "        how=\"left\")\n",
    "    assingments_7000[\"is_enabled\"].fillna(value=False, inplace=True)\n",
    "    assingments_7000[\"enforced_flag\"].fillna(value=False, inplace=True)"
   ]
  },
  {
   "cell_type": "code",
   "execution_count": 245,
   "id": "caac5564",
   "metadata": {},
   "outputs": [],
   "source": [
    "index_not_enabled = ( ~assingments_7000[\"is_enabled\"] | assingments_7000[\"enforced_flag\"])"
   ]
  },
  {
   "cell_type": "code",
   "execution_count": 246,
   "id": "b3f04e82",
   "metadata": {},
   "outputs": [],
   "source": [
    "# Caso um escritório seja descadastrados e sua dívida não esteja\n",
    "# ajuizada essa divida deve ser distribuida independente do decurso\n",
    "# de prazo\n",
    "index_not_ajuizado = ~assingments_7000[\"debt_status\"].isin([\"ajuizado\", \"bindingid_null\"])\n",
    "assingments_7000.loc[index_not_enabled & index_not_ajuizado,\"debt_status\"] = \"descadastrado\""
   ]
  },
  {
   "cell_type": "code",
   "execution_count": 247,
   "id": "ae7294da",
   "metadata": {},
   "outputs": [],
   "source": [
    "val_n = len(assingments_7000)"
   ]
  },
  {
   "cell_type": "code",
   "execution_count": 252,
   "id": "c0bdbba1",
   "metadata": {},
   "outputs": [],
   "source": [
    "val_n = len(assingments_7000)"
   ]
  },
  {
   "cell_type": "code",
   "execution_count": 253,
   "id": "ec7f2bf4",
   "metadata": {},
   "outputs": [],
   "source": [
    "assingments_7000 = pd.merge(assingments_7000, debt_info, how=\"left\", validate=\"one_to_one\")"
   ]
  },
  {
   "cell_type": "code",
   "execution_count": 255,
   "id": "fff2c26c",
   "metadata": {},
   "outputs": [],
   "source": [
    "assert len(assingments_7000) == val_n,\\\n",
    "    \"len(assingments_7000) == val_n .\""
   ]
  },
  {
   "cell_type": "code",
   "execution_count": 256,
   "id": "eede9e3c",
   "metadata": {},
   "outputs": [],
   "source": [
    "delta_days = optimization_month - assingments_7000[\"first_default_date\"]\n",
    "debt_age_years = (delta_days / np.timedelta64(1, \"M\")).round() / 12"
   ]
  },
  {
   "cell_type": "code",
   "execution_count": 257,
   "id": "d75e0712",
   "metadata": {},
   "outputs": [],
   "source": [
    "debt_age_years_cut = pd.cut(debt_age_years, bins=cuts_age, right=True, labels=cuts_age[:-1])"
   ]
  },
  {
   "cell_type": "code",
   "execution_count": 258,
   "id": "3da41e4f",
   "metadata": {},
   "outputs": [],
   "source": [
    "assert not debt_age_years_cut.isna().any(), (\n",
    "    \"Algum corte do debt age está sendo feito errado [%s].\")"
   ]
  },
  {
   "cell_type": "code",
   "execution_count": 259,
   "id": "e1b90bb4",
   "metadata": {},
   "outputs": [],
   "source": [
    "assingments_7000[\"debt_age_years_cut\"] = debt_age_years_cut"
   ]
  },
  {
   "cell_type": "code",
   "execution_count": 260,
   "id": "c6eb028b",
   "metadata": {},
   "outputs": [],
   "source": [
    "index_debts_cobranca = ~assingments_7000[\"debt_status\"].isin([\"ajuizado\", \"bindingid_null\"])"
   ]
  },
  {
   "cell_type": "code",
   "execution_count": 261,
   "id": "0b4b37ee",
   "metadata": {},
   "outputs": [],
   "source": [
    "assingments_em_cobranca = assingments_7000.loc[index_debts_cobranca, [\n",
    "        \"segment_id\", \"debt_id\", \"binding_id\", \"customer_id\",\n",
    "        \"agency_id\", \"debt_age_years_cut\", \"products\",\n",
    "        \"debt_status\", \"assignment_time\", \"reference_month\",\n",
    "        \"months_in_agency_opt_month\", \"reference_balance\"]]"
   ]
  },
  {
   "cell_type": "code",
   "execution_count": 263,
   "id": "9d11c885",
   "metadata": {},
   "outputs": [],
   "source": [
    "assert not assingments_em_cobranca[\"agency_id\"].isin([716, 175, 756, 820]).any(), (\n",
    "    \"assingments_em_cobranca: Existem dividas das \"\n",
    "    \"agencias 716, 175, 756, 820 (Vellum...)\")"
   ]
  },
  {
   "cell_type": "markdown",
   "id": "e902cb47",
   "metadata": {},
   "source": [
    "### Criando a base de otimização "
   ]
  },
  {
   "cell_type": "code",
   "execution_count": 264,
   "id": "789ffba0",
   "metadata": {},
   "outputs": [],
   "source": [
    "grouped_assingments_7000 = assingments_7000.groupby([\n",
    "    \"segment_id\", \"products\", \"debt_age_years_cut\",\n",
    "    \"debt_status\", \"agency_id\", \"is_enabled\", \"enforced_flag\"],\n",
    "    observed=True)[\"reference_balance\"].sum()"
   ]
  },
  {
   "cell_type": "code",
   "execution_count": 265,
   "id": "7a0bf8af",
   "metadata": {},
   "outputs": [],
   "source": [
    "grouped_assingments_7000 = grouped_assingments_7000.unstack(\"debt_status\")\n",
    "grouped_assingments_7000.fillna(value=0, inplace=True)"
   ]
  },
  {
   "cell_type": "code",
   "execution_count": 266,
   "id": "6980400a",
   "metadata": {},
   "outputs": [],
   "source": [
    "# Soma as dívidas que não estão ajuizadas como total de cobrança\n",
    "grouped_assingments_7000[\"total_cobranca\"] = grouped_assingments_7000.drop([\"ajuizado\", \"bindingid_null\"], axis=1, errors=\"ignore\").sum(axis=1)"
   ]
  },
  {
   "cell_type": "code",
   "execution_count": 267,
   "id": "51035122",
   "metadata": {},
   "outputs": [],
   "source": [
    "livre_columns = [x for x in [\"decurso de prazo\", \"descadastrado\"] if x in grouped_assingments_7000.columns]\n",
    "grouped_assingments_7000[\"face_livre\"] = grouped_assingments_7000[livre_columns].sum(axis=1)\n",
    "grouped_assingments_7000.reset_index(inplace=True)"
   ]
  },
  {
   "cell_type": "code",
   "execution_count": 268,
   "id": "1833c680",
   "metadata": {},
   "outputs": [],
   "source": [
    "# Unindo os debtos livres aos calculos de performance\n",
    "base_otimizacao = efficiencia.merge(grouped_assingments_7000, how=\"right\")"
   ]
  },
  {
   "cell_type": "code",
   "execution_count": 269,
   "id": "c50b3e7e",
   "metadata": {},
   "outputs": [],
   "source": [
    "assert not base_otimizacao[\"agency_id\"].isin([\n",
    "    716, 175, 756, 820]).any(), (\n",
    "        \"base_otimizacao: Existem dividas das agencias 716, 175, \"\n",
    "        \"756, 820 (Vellum...)\")"
   ]
  },
  {
   "cell_type": "code",
   "execution_count": 270,
   "id": "76600bc6",
   "metadata": {},
   "outputs": [],
   "source": [
    "all_agg_results = base_otimizacao\n",
    "del base_otimizacao "
   ]
  },
  {
   "cell_type": "code",
   "execution_count": 271,
   "id": "20aba797",
   "metadata": {},
   "outputs": [],
   "source": [
    "pd_free_debts = assingments_em_cobranca\n",
    "del assingments_em_cobranca"
   ]
  },
  {
   "cell_type": "code",
   "execution_count": 272,
   "id": "3297ba2c",
   "metadata": {},
   "outputs": [],
   "source": [
    "all_agg_results[\"time\"] = optimization_month\n",
    "all_agg_results[\"agency_id\"] = pd.to_numeric(all_agg_results[\"agency_id\"])"
   ]
  },
  {
   "cell_type": "code",
   "execution_count": 273,
   "id": "f48dad0f",
   "metadata": {},
   "outputs": [],
   "source": [
    "# Agregando resultados por segmento\n",
    "if \"descadastrado\" not in all_agg_results.columns:\n",
    "    all_agg_results[\"descadastrado\"] = 0"
   ]
  },
  {
   "cell_type": "code",
   "execution_count": 274,
   "id": "a7ae7ccd",
   "metadata": {},
   "outputs": [],
   "source": [
    "all_agg_results= all_agg_results.convert_dtypes()"
   ]
  },
  {
   "cell_type": "code",
   "execution_count": 275,
   "id": "1918b3fd",
   "metadata": {},
   "outputs": [],
   "source": [
    "all_agg_results[\"face__total_cobranca__mes_anterior\"] = pd.to_numeric(all_agg_results[\"face__total_cobranca__mes_anterior\"])"
   ]
  },
  {
   "cell_type": "code",
   "execution_count": 276,
   "id": "74a2b92e",
   "metadata": {},
   "outputs": [],
   "source": [
    "all_agg_results[\"face__total_cobranca__mes_atual\"] = pd.to_numeric(all_agg_results[\"face__total_cobranca__mes_atual\"])"
   ]
  },
  {
   "cell_type": "code",
   "execution_count": 277,
   "id": "c4cb48eb",
   "metadata": {},
   "outputs": [],
   "source": [
    "all_agg_results[\"ajuizado\"] = pd.to_numeric(all_agg_results[\"ajuizado\"])"
   ]
  },
  {
   "cell_type": "code",
   "execution_count": 278,
   "id": "343b7dcf",
   "metadata": {},
   "outputs": [],
   "source": [
    "all_agg_results[\"decurso de prazo\"] = pd.to_numeric(all_agg_results[\"decurso de prazo\"])"
   ]
  },
  {
   "cell_type": "code",
   "execution_count": 279,
   "id": "1ea36fea",
   "metadata": {},
   "outputs": [
    {
     "data": {
      "text/html": [
       "<div>\n",
       "<style scoped>\n",
       "    .dataframe tbody tr th:only-of-type {\n",
       "        vertical-align: middle;\n",
       "    }\n",
       "\n",
       "    .dataframe tbody tr th {\n",
       "        vertical-align: top;\n",
       "    }\n",
       "\n",
       "    .dataframe thead th {\n",
       "        text-align: right;\n",
       "    }\n",
       "</style>\n",
       "<table border=\"1\" class=\"dataframe\">\n",
       "  <thead>\n",
       "    <tr style=\"text-align: right;\">\n",
       "      <th></th>\n",
       "      <th>agency_id</th>\n",
       "      <th>segment_id</th>\n",
       "      <th>products</th>\n",
       "      <th>debt_age_years_cut</th>\n",
       "      <th>cash_novo__mes_anterior</th>\n",
       "      <th>cash_novo__mes_atual</th>\n",
       "      <th>face__total_cobranca__mes_anterior</th>\n",
       "      <th>face__total_cobranca__mes_atual</th>\n",
       "      <th>is_enabled</th>\n",
       "      <th>enforced_flag</th>\n",
       "      <th>ajuizado</th>\n",
       "      <th>decurso de prazo</th>\n",
       "      <th>descadastrado</th>\n",
       "      <th>menor 4M</th>\n",
       "      <th>total_cobranca</th>\n",
       "      <th>face_livre</th>\n",
       "      <th>time</th>\n",
       "    </tr>\n",
       "  </thead>\n",
       "  <tbody>\n",
       "    <tr>\n",
       "      <th>0</th>\n",
       "      <td>185</td>\n",
       "      <td>1</td>\n",
       "      <td>Cartão de Crédito</td>\n",
       "      <td>0</td>\n",
       "      <td>6200.09</td>\n",
       "      <td>486.08</td>\n",
       "      <td>36921617.88</td>\n",
       "      <td>37539891.09</td>\n",
       "      <td>True</td>\n",
       "      <td>False</td>\n",
       "      <td>18828.40</td>\n",
       "      <td>1821746.96</td>\n",
       "      <td>0</td>\n",
       "      <td>3581519.61</td>\n",
       "      <td>5403266.57</td>\n",
       "      <td>1821746.96</td>\n",
       "      <td>2021-11-01</td>\n",
       "    </tr>\n",
       "    <tr>\n",
       "      <th>1</th>\n",
       "      <td>571</td>\n",
       "      <td>1</td>\n",
       "      <td>Cartão de Crédito</td>\n",
       "      <td>0</td>\n",
       "      <td>2274.03</td>\n",
       "      <td>603.50</td>\n",
       "      <td>8408910.83</td>\n",
       "      <td>8560811.80</td>\n",
       "      <td>True</td>\n",
       "      <td>False</td>\n",
       "      <td>6692.95</td>\n",
       "      <td>445822.47</td>\n",
       "      <td>0</td>\n",
       "      <td>597616.74</td>\n",
       "      <td>1043439.21</td>\n",
       "      <td>445822.47</td>\n",
       "      <td>2021-11-01</td>\n",
       "    </tr>\n",
       "    <tr>\n",
       "      <th>2</th>\n",
       "      <td>640</td>\n",
       "      <td>1</td>\n",
       "      <td>Cartão de Crédito</td>\n",
       "      <td>0</td>\n",
       "      <td>52.88</td>\n",
       "      <td>0.00</td>\n",
       "      <td>5235560.94</td>\n",
       "      <td>5608211.71</td>\n",
       "      <td>True</td>\n",
       "      <td>False</td>\n",
       "      <td>2912.08</td>\n",
       "      <td>654449.66</td>\n",
       "      <td>0</td>\n",
       "      <td>0</td>\n",
       "      <td>654449.66</td>\n",
       "      <td>654449.66</td>\n",
       "      <td>2021-11-01</td>\n",
       "    </tr>\n",
       "    <tr>\n",
       "      <th>3</th>\n",
       "      <td>652</td>\n",
       "      <td>1</td>\n",
       "      <td>Cartão de Crédito</td>\n",
       "      <td>0</td>\n",
       "      <td>0.00</td>\n",
       "      <td>0.00</td>\n",
       "      <td>NaN</td>\n",
       "      <td>3523.73</td>\n",
       "      <td>False</td>\n",
       "      <td>False</td>\n",
       "      <td>0.00</td>\n",
       "      <td>0.00</td>\n",
       "      <td>2248.88</td>\n",
       "      <td>0</td>\n",
       "      <td>2248.88</td>\n",
       "      <td>2248.88</td>\n",
       "      <td>2021-11-01</td>\n",
       "    </tr>\n",
       "    <tr>\n",
       "      <th>4</th>\n",
       "      <td>669</td>\n",
       "      <td>1</td>\n",
       "      <td>Cartão de Crédito</td>\n",
       "      <td>0</td>\n",
       "      <td>0.00</td>\n",
       "      <td>0.00</td>\n",
       "      <td>814.29</td>\n",
       "      <td>26056.18</td>\n",
       "      <td>False</td>\n",
       "      <td>False</td>\n",
       "      <td>0.00</td>\n",
       "      <td>0.00</td>\n",
       "      <td>26056.18</td>\n",
       "      <td>0</td>\n",
       "      <td>26056.18</td>\n",
       "      <td>26056.18</td>\n",
       "      <td>2021-11-01</td>\n",
       "    </tr>\n",
       "  </tbody>\n",
       "</table>\n",
       "</div>"
      ],
      "text/plain": [
       "   agency_id  segment_id           products debt_age_years_cut  \\\n",
       "0        185           1  Cartão de Crédito                  0   \n",
       "1        571           1  Cartão de Crédito                  0   \n",
       "2        640           1  Cartão de Crédito                  0   \n",
       "3        652           1  Cartão de Crédito                  0   \n",
       "4        669           1  Cartão de Crédito                  0   \n",
       "\n",
       "   cash_novo__mes_anterior  cash_novo__mes_atual  \\\n",
       "0                  6200.09                486.08   \n",
       "1                  2274.03                603.50   \n",
       "2                    52.88                  0.00   \n",
       "3                     0.00                  0.00   \n",
       "4                     0.00                  0.00   \n",
       "\n",
       "   face__total_cobranca__mes_anterior  face__total_cobranca__mes_atual  \\\n",
       "0                         36921617.88                      37539891.09   \n",
       "1                          8408910.83                       8560811.80   \n",
       "2                          5235560.94                       5608211.71   \n",
       "3                                 NaN                          3523.73   \n",
       "4                              814.29                         26056.18   \n",
       "\n",
       "   is_enabled  enforced_flag  ajuizado  decurso de prazo descadastrado  \\\n",
       "0        True          False  18828.40        1821746.96             0   \n",
       "1        True          False   6692.95         445822.47             0   \n",
       "2        True          False   2912.08         654449.66             0   \n",
       "3       False          False      0.00              0.00       2248.88   \n",
       "4       False          False      0.00              0.00      26056.18   \n",
       "\n",
       "     menor 4M  total_cobranca  face_livre       time  \n",
       "0  3581519.61      5403266.57  1821746.96 2021-11-01  \n",
       "1   597616.74      1043439.21   445822.47 2021-11-01  \n",
       "2           0       654449.66   654449.66 2021-11-01  \n",
       "3           0         2248.88     2248.88 2021-11-01  \n",
       "4           0        26056.18    26056.18 2021-11-01  "
      ]
     },
     "execution_count": 279,
     "metadata": {},
     "output_type": "execute_result"
    }
   ],
   "source": [
    "all_agg_results.head()"
   ]
  },
  {
   "cell_type": "code",
   "execution_count": 280,
   "id": "449350dd",
   "metadata": {},
   "outputs": [],
   "source": [
    "aggregation_data = all_agg_results.groupby([\n",
    "    \"time\", \"is_enabled\", \"enforced_flag\", \"agency_id\", \"segment_id\",\n",
    "    \"products\", \"debt_age_years_cut\"], as_index=False, observed=True)[[\n",
    "        \"cash_novo__mes_anterior\",\n",
    "        \"cash_novo__mes_atual\",\n",
    "        \"face__total_cobranca__mes_anterior\",\n",
    "        \"face__total_cobranca__mes_atual\",\n",
    "        \"ajuizado\",\n",
    "        \"decurso de prazo\",\n",
    "        \"descadastrado\",\n",
    "        \"menor 4M\",\n",
    "        \"total_cobranca\",\n",
    "        \"face_livre\"]].sum()"
   ]
  },
  {
   "cell_type": "code",
   "execution_count": 281,
   "id": "2213ed8b",
   "metadata": {},
   "outputs": [
    {
     "data": {
      "text/html": [
       "<div>\n",
       "<style scoped>\n",
       "    .dataframe tbody tr th:only-of-type {\n",
       "        vertical-align: middle;\n",
       "    }\n",
       "\n",
       "    .dataframe tbody tr th {\n",
       "        vertical-align: top;\n",
       "    }\n",
       "\n",
       "    .dataframe thead th {\n",
       "        text-align: right;\n",
       "    }\n",
       "</style>\n",
       "<table border=\"1\" class=\"dataframe\">\n",
       "  <thead>\n",
       "    <tr style=\"text-align: right;\">\n",
       "      <th></th>\n",
       "      <th>agency_id</th>\n",
       "      <th>segment_id</th>\n",
       "      <th>products</th>\n",
       "      <th>debt_age_years_cut</th>\n",
       "      <th>cash_novo__mes_anterior</th>\n",
       "      <th>cash_novo__mes_atual</th>\n",
       "      <th>face__total_cobranca__mes_anterior</th>\n",
       "      <th>face__total_cobranca__mes_atual</th>\n",
       "      <th>is_enabled</th>\n",
       "      <th>enforced_flag</th>\n",
       "      <th>ajuizado</th>\n",
       "      <th>decurso de prazo</th>\n",
       "      <th>descadastrado</th>\n",
       "      <th>menor 4M</th>\n",
       "      <th>total_cobranca</th>\n",
       "      <th>face_livre</th>\n",
       "      <th>time</th>\n",
       "    </tr>\n",
       "  </thead>\n",
       "  <tbody>\n",
       "    <tr>\n",
       "      <th>0</th>\n",
       "      <td>185</td>\n",
       "      <td>1</td>\n",
       "      <td>Cartão de Crédito</td>\n",
       "      <td>0</td>\n",
       "      <td>6200.09</td>\n",
       "      <td>486.08</td>\n",
       "      <td>36921617.88</td>\n",
       "      <td>37539891.09</td>\n",
       "      <td>True</td>\n",
       "      <td>False</td>\n",
       "      <td>18828.40</td>\n",
       "      <td>1821746.96</td>\n",
       "      <td>0</td>\n",
       "      <td>3581519.61</td>\n",
       "      <td>5403266.57</td>\n",
       "      <td>1821746.96</td>\n",
       "      <td>2021-11-01</td>\n",
       "    </tr>\n",
       "    <tr>\n",
       "      <th>1</th>\n",
       "      <td>571</td>\n",
       "      <td>1</td>\n",
       "      <td>Cartão de Crédito</td>\n",
       "      <td>0</td>\n",
       "      <td>2274.03</td>\n",
       "      <td>603.50</td>\n",
       "      <td>8408910.83</td>\n",
       "      <td>8560811.80</td>\n",
       "      <td>True</td>\n",
       "      <td>False</td>\n",
       "      <td>6692.95</td>\n",
       "      <td>445822.47</td>\n",
       "      <td>0</td>\n",
       "      <td>597616.74</td>\n",
       "      <td>1043439.21</td>\n",
       "      <td>445822.47</td>\n",
       "      <td>2021-11-01</td>\n",
       "    </tr>\n",
       "    <tr>\n",
       "      <th>2</th>\n",
       "      <td>640</td>\n",
       "      <td>1</td>\n",
       "      <td>Cartão de Crédito</td>\n",
       "      <td>0</td>\n",
       "      <td>52.88</td>\n",
       "      <td>0.00</td>\n",
       "      <td>5235560.94</td>\n",
       "      <td>5608211.71</td>\n",
       "      <td>True</td>\n",
       "      <td>False</td>\n",
       "      <td>2912.08</td>\n",
       "      <td>654449.66</td>\n",
       "      <td>0</td>\n",
       "      <td>0</td>\n",
       "      <td>654449.66</td>\n",
       "      <td>654449.66</td>\n",
       "      <td>2021-11-01</td>\n",
       "    </tr>\n",
       "    <tr>\n",
       "      <th>3</th>\n",
       "      <td>652</td>\n",
       "      <td>1</td>\n",
       "      <td>Cartão de Crédito</td>\n",
       "      <td>0</td>\n",
       "      <td>0.00</td>\n",
       "      <td>0.00</td>\n",
       "      <td>NaN</td>\n",
       "      <td>3523.73</td>\n",
       "      <td>False</td>\n",
       "      <td>False</td>\n",
       "      <td>0.00</td>\n",
       "      <td>0.00</td>\n",
       "      <td>2248.88</td>\n",
       "      <td>0</td>\n",
       "      <td>2248.88</td>\n",
       "      <td>2248.88</td>\n",
       "      <td>2021-11-01</td>\n",
       "    </tr>\n",
       "    <tr>\n",
       "      <th>4</th>\n",
       "      <td>669</td>\n",
       "      <td>1</td>\n",
       "      <td>Cartão de Crédito</td>\n",
       "      <td>0</td>\n",
       "      <td>0.00</td>\n",
       "      <td>0.00</td>\n",
       "      <td>814.29</td>\n",
       "      <td>26056.18</td>\n",
       "      <td>False</td>\n",
       "      <td>False</td>\n",
       "      <td>0.00</td>\n",
       "      <td>0.00</td>\n",
       "      <td>26056.18</td>\n",
       "      <td>0</td>\n",
       "      <td>26056.18</td>\n",
       "      <td>26056.18</td>\n",
       "      <td>2021-11-01</td>\n",
       "    </tr>\n",
       "  </tbody>\n",
       "</table>\n",
       "</div>"
      ],
      "text/plain": [
       "   agency_id  segment_id           products debt_age_years_cut  \\\n",
       "0        185           1  Cartão de Crédito                  0   \n",
       "1        571           1  Cartão de Crédito                  0   \n",
       "2        640           1  Cartão de Crédito                  0   \n",
       "3        652           1  Cartão de Crédito                  0   \n",
       "4        669           1  Cartão de Crédito                  0   \n",
       "\n",
       "   cash_novo__mes_anterior  cash_novo__mes_atual  \\\n",
       "0                  6200.09                486.08   \n",
       "1                  2274.03                603.50   \n",
       "2                    52.88                  0.00   \n",
       "3                     0.00                  0.00   \n",
       "4                     0.00                  0.00   \n",
       "\n",
       "   face__total_cobranca__mes_anterior  face__total_cobranca__mes_atual  \\\n",
       "0                         36921617.88                      37539891.09   \n",
       "1                          8408910.83                       8560811.80   \n",
       "2                          5235560.94                       5608211.71   \n",
       "3                                 NaN                          3523.73   \n",
       "4                              814.29                         26056.18   \n",
       "\n",
       "   is_enabled  enforced_flag  ajuizado  decurso de prazo descadastrado  \\\n",
       "0        True          False  18828.40        1821746.96             0   \n",
       "1        True          False   6692.95         445822.47             0   \n",
       "2        True          False   2912.08         654449.66             0   \n",
       "3       False          False      0.00              0.00       2248.88   \n",
       "4       False          False      0.00              0.00      26056.18   \n",
       "\n",
       "     menor 4M  total_cobranca  face_livre       time  \n",
       "0  3581519.61      5403266.57  1821746.96 2021-11-01  \n",
       "1   597616.74      1043439.21   445822.47 2021-11-01  \n",
       "2           0       654449.66   654449.66 2021-11-01  \n",
       "3           0         2248.88     2248.88 2021-11-01  \n",
       "4           0        26056.18    26056.18 2021-11-01  "
      ]
     },
     "execution_count": 281,
     "metadata": {},
     "output_type": "execute_result"
    }
   ],
   "source": [
    "all_agg_results.head()"
   ]
  },
  {
   "cell_type": "code",
   "execution_count": 283,
   "id": "2c832426",
   "metadata": {},
   "outputs": [],
   "source": [
    "all_agg_results[\"descadastrado\"] = all_agg_results[\"descadastrado\"].astype(int)"
   ]
  },
  {
   "cell_type": "code",
   "execution_count": 284,
   "id": "e13173e2",
   "metadata": {},
   "outputs": [],
   "source": [
    "all_agg_results[\"menor 4M\"] = all_agg_results[\"menor 4M\"].astype(float)"
   ]
  },
  {
   "cell_type": "code",
   "execution_count": 285,
   "id": "16ba9db8",
   "metadata": {},
   "outputs": [],
   "source": [
    "aggregation_data = all_agg_results.groupby([\n",
    "    \"time\", \"is_enabled\", \"enforced_flag\", \"agency_id\", \"segment_id\",\n",
    "    \"products\", \"debt_age_years_cut\"], as_index=False, observed=True)[[\n",
    "        \"cash_novo__mes_anterior\",\n",
    "        \"cash_novo__mes_atual\",\n",
    "        \"face__total_cobranca__mes_anterior\",\n",
    "        \"face__total_cobranca__mes_atual\",\n",
    "        \"ajuizado\",\n",
    "        \"menor 4M\",\n",
    "        \"decurso de prazo\",\"descadastrado\",\n",
    "        \"total_cobranca\",\n",
    "        \"face_livre\"]].sum()"
   ]
  },
  {
   "cell_type": "code",
   "execution_count": 286,
   "id": "59ffbd1f",
   "metadata": {},
   "outputs": [],
   "source": [
    "aggregation_data[\"bloqueado\"] = aggregation_data[\"total_cobranca\"] - aggregation_data[\"face_livre\"]"
   ]
  },
  {
   "cell_type": "code",
   "execution_count": 287,
   "id": "5fd12b34",
   "metadata": {},
   "outputs": [],
   "source": [
    "# Fazendo o cálculo da eficiência ponderada\n",
    "aggregation_data[\"cash_novo__ponderado\"] = aggregation_data[\"cash_novo__mes_anterior\"] * 0.4 + aggregation_data[\"cash_novo__mes_atual\"] * 0.6"
   ]
  },
  {
   "cell_type": "code",
   "execution_count": 288,
   "id": "5512b162",
   "metadata": {},
   "outputs": [],
   "source": [
    "aggregation_data[\"face__total_cobranca__ponderado\"] = aggregation_data[\"face__total_cobranca__mes_anterior\"] * 0.4 + aggregation_data[\"face__total_cobranca__mes_atual\"] * 0.6"
   ]
  },
  {
   "cell_type": "code",
   "execution_count": 289,
   "id": "656967de",
   "metadata": {},
   "outputs": [],
   "source": [
    "aggregation_data[\"eficiencia__60_40\"] = aggregation_data[\"cash_novo__ponderado\"] / aggregation_data[\"face__total_cobranca__ponderado\"]"
   ]
  },
  {
   "cell_type": "code",
   "execution_count": 291,
   "id": "8277acbf",
   "metadata": {},
   "outputs": [],
   "source": [
    "# Adicinando o nome da agência a base de dados para facilitar as\n",
    "# validações\n",
    "agency_to_merge = agency.rename(columns={\"name\": \"agency\"})[[\"agency_id\", \"agency\"]]\n",
    "n_val = len(aggregation_data)\n",
    "aggregation_data = agency_to_merge.merge(aggregation_data[[\n",
    "    \"time\", \"agency_id\", \"is_enabled\", \"enforced_flag\", \"segment_id\",\n",
    "    \"products\", \"debt_age_years_cut\", \"cash_novo__mes_anterior\",\n",
    "    \"cash_novo__mes_atual\", \"cash_novo__ponderado\",\n",
    "    \"face__total_cobranca__mes_anterior\",\n",
    "    \"face__total_cobranca__mes_atual\",\n",
    "    \"face__total_cobranca__ponderado\",\n",
    "    \"eficiencia__60_40\",\n",
    "    \"ajuizado\",\n",
    "    \"menor 4M\",\n",
    "    \"decurso de prazo\",\n",
    "    \"descadastrado\",\n",
    "    \"bloqueado\",\n",
    "    \"face_livre\",\n",
    "    \"total_cobranca\"]], validate=\"one_to_many\")"
   ]
  },
  {
   "cell_type": "code",
   "execution_count": 292,
   "id": "0d2e779f",
   "metadata": {},
   "outputs": [],
   "source": [
    "assert len(aggregation_data) == n_val, \\\n",
    "    \"Algumas agências não estão no de-para [agency_to_merge]\""
   ]
  },
  {
   "cell_type": "code",
   "execution_count": 293,
   "id": "628ecee1",
   "metadata": {},
   "outputs": [],
   "source": [
    "results_val = aggregation_data.groupby([\"time\", \"agency_id\", \"segment_id\", \"products\",\"debt_age_years_cut\"], observed=True)[\"cash_novo__ponderado\"].count()"
   ]
  },
  {
   "cell_type": "code",
   "execution_count": 294,
   "id": "dcd216d6",
   "metadata": {},
   "outputs": [],
   "source": [
    "assert (1 == results_val).all(),\\\n",
    "    \"Existem valores duplicados\""
   ]
  },
  {
   "cell_type": "markdown",
   "id": "c0081743",
   "metadata": {},
   "source": [
    "#### Formatando os tipos das colunas"
   ]
  },
  {
   "cell_type": "code",
   "execution_count": 344,
   "id": "d37a3a17",
   "metadata": {},
   "outputs": [],
   "source": [
    "pd_free_debts[\"binding_id\"] = pd_free_debts[\"binding_id\"].astype(\"int64\")\n",
    "pd_free_debts[\"customer_id\"] = pd_free_debts[\"customer_id\"].astype(\"int64\")\n",
    "pd_free_debts[\"reference_balance\"] = pd_free_debts[\"reference_balance\"].astype(\"float64\")"
   ]
  },
  {
   "cell_type": "code",
   "execution_count": 347,
   "id": "c1cd784f",
   "metadata": {},
   "outputs": [],
   "source": [
    "aggregation_data[\"descadastrado\"] = aggregation_data[\"descadastrado\"].astype(\"float64\") "
   ]
  },
  {
   "cell_type": "code",
   "execution_count": 350,
   "id": "47021c67",
   "metadata": {},
   "outputs": [],
   "source": [
    "pd_free_debts = pd_free_debts.rename(columns={'products': 'product'})\n",
    "aggregation_data = aggregation_data.rename(columns={'products': 'product'})"
   ]
  },
  {
   "cell_type": "markdown",
   "id": "71f39f70",
   "metadata": {},
   "source": [
    "#### Salvar no s3 como parquet"
   ]
  },
  {
   "cell_type": "code",
   "execution_count": 364,
   "id": "b5c7e311",
   "metadata": {},
   "outputs": [],
   "source": [
    "now = datetime.datetime.now().isoformat()"
   ]
  },
  {
   "cell_type": "code",
   "execution_count": 365,
   "id": "65ec2fc6",
   "metadata": {},
   "outputs": [],
   "source": [
    "month_optimization = \"11\""
   ]
  },
  {
   "cell_type": "markdown",
   "id": "3f615308",
   "metadata": {},
   "source": [
    "#### Salvando a base de debtos livres"
   ]
  },
  {
   "cell_type": "code",
   "execution_count": 366,
   "id": "26471077",
   "metadata": {},
   "outputs": [
    {
     "data": {
      "text/plain": [
       "{'paths': ['s3://dlr-dev-bucket-refinedzone/models/data_prep/2021-11/free_debts__2022-01-24T19:59:39.324957.parquet'],\n",
       " 'partitions_values': {}}"
      ]
     },
     "execution_count": 366,
     "metadata": {},
     "output_type": "execute_result"
    }
   ],
   "source": [
    "s3_file_free_debts = 'models/data_prep/'+yearMonth+'-'+month_optimization+'/free_debts__'+now+'.parquet'\n",
    "wr.s3.to_parquet(pd_free_debts,path='s3://dlr-dev-bucket-refinedzone/models/data_prep/'+yearMonth+'-'+month_optimization+'/free_debts__'+now+'.parquet')    "
   ]
  },
  {
   "cell_type": "markdown",
   "id": "c3977d6c",
   "metadata": {},
   "source": [
    "#### Salvando as bases de otimização"
   ]
  },
  {
   "cell_type": "code",
   "execution_count": 367,
   "id": "56ad030e",
   "metadata": {},
   "outputs": [
    {
     "data": {
      "text/plain": [
       "{'paths': ['s3://dlr-dev-bucket-refinedzone/models/data_prep/2021-11/otimization_db__2022-01-24T19:59:39.324957.parquet'],\n",
       " 'partitions_values': {}}"
      ]
     },
     "execution_count": 367,
     "metadata": {},
     "output_type": "execute_result"
    }
   ],
   "source": [
    "s3_file_optimization_db = 'models/data_prep/'+yearMonth+'-'+month_optimization+'/otimization_db__'+now+'.parquet'\n",
    "wr.s3.to_parquet(aggregation_data,path='s3://dlr-dev-bucket-refinedzone/models/data_prep/'+yearMonth+'-'+month_optimization+'/otimization_db__'+now+'.parquet')"
   ]
  },
  {
   "cell_type": "markdown",
   "id": "7d87df34",
   "metadata": {},
   "source": [
    "#### Salvando o metadata"
   ]
  },
  {
   "cell_type": "code",
   "execution_count": 368,
   "id": "14f3d1c5",
   "metadata": {},
   "outputs": [],
   "source": [
    "# Salvando a metadata do run\n",
    "s3_file_metadata = 'models/data_prep/'+yearMonth+'-'+month_optimization+'/metadata__'+now+'.json'\n",
    "last_run_dict = {\n",
    "    \"run_time\": now,\n",
    "    \"files\": {\n",
    "        \"otimization_db\": s3_file_optimization_db,\n",
    "        \"free_debts_db\": s3_file_free_debts,\n",
    "        \"metadata\": s3_file_metadata,\n",
    "    },\n",
    "    \"optimization_month\": optimization_month.isoformat(),\n",
    "    \"mes_atual\": mes_atual.isoformat(),\n",
    "    \"mes_anterior\": mes_anterior.isoformat(),\n",
    "    \"cuts_age\": mes_anterior.isoformat(),\n",
    "    \"portfolio_ids__enabled\": portfolio_ids__enabled[\n",
    "        \"PortfolioID\"].tolist(),\n",
    "}"
   ]
  },
  {
   "cell_type": "code",
   "execution_count": 369,
   "id": "803225c5",
   "metadata": {},
   "outputs": [],
   "source": [
    "run_metadata = json.dumps(last_run_dict, indent=2).encode(\"utf-8\")"
   ]
  },
  {
   "cell_type": "code",
   "execution_count": 370,
   "id": "ba46682a",
   "metadata": {},
   "outputs": [],
   "source": [
    "s3 = boto3.resource('s3')\n",
    "s3object = s3.Object('dlr-dev-bucket-refinedzone', 'models/data_prep/'+yearMonth+'-'+month_optimization+'/metadata__'+now+'.json')\n"
   ]
  },
  {
   "cell_type": "code",
   "execution_count": 371,
   "id": "b6e7e70a",
   "metadata": {},
   "outputs": [
    {
     "data": {
      "text/plain": [
       "{'ResponseMetadata': {'RequestId': 'R6MTKDWJFA121Q5Y',\n",
       "  'HostId': 'XGFCN2LCKPdloHVADoLM/up5DFrPo1tBDa+kskB6Q08OexL3s4NW8eo/BimbGbBVVwh1eQGl6vE=',\n",
       "  'HTTPStatusCode': 200,\n",
       "  'HTTPHeaders': {'x-amz-id-2': 'XGFCN2LCKPdloHVADoLM/up5DFrPo1tBDa+kskB6Q08OexL3s4NW8eo/BimbGbBVVwh1eQGl6vE=',\n",
       "   'x-amz-request-id': 'R6MTKDWJFA121Q5Y',\n",
       "   'date': 'Mon, 24 Jan 2022 19:59:43 GMT',\n",
       "   'x-amz-version-id': 'WhOwzU4oGPESJWg36WwUCxs2VuJlWqc.',\n",
       "   'x-amz-server-side-encryption': 'aws:kms',\n",
       "   'x-amz-server-side-encryption-aws-kms-key-id': 'arn:aws:kms:us-east-2:642344871054:key/b50764cd-f3a7-420e-92a4-a259917163ab',\n",
       "   'etag': '\"cf6f80ddb9ea23c8a235ab2d5d31594a\"',\n",
       "   'server': 'AmazonS3',\n",
       "   'content-length': '0'},\n",
       "  'RetryAttempts': 0},\n",
       " 'ETag': '\"cf6f80ddb9ea23c8a235ab2d5d31594a\"',\n",
       " 'ServerSideEncryption': 'aws:kms',\n",
       " 'VersionId': 'WhOwzU4oGPESJWg36WwUCxs2VuJlWqc.',\n",
       " 'SSEKMSKeyId': 'arn:aws:kms:us-east-2:642344871054:key/b50764cd-f3a7-420e-92a4-a259917163ab'}"
      ]
     },
     "execution_count": 371,
     "metadata": {},
     "output_type": "execute_result"
    }
   ],
   "source": [
    "s3object.put(\n",
    "    Body=(bytes(run_metadata))\n",
    ")"
   ]
  },
  {
   "cell_type": "code",
   "execution_count": 372,
   "id": "70cf9348",
   "metadata": {},
   "outputs": [],
   "source": [
    "s3object_last = s3.Object('dlr-dev-bucket-refinedzone', 'models/data_prep/'+yearMonth+'-'+month_optimization+'/metadata__last_run.json')\n"
   ]
  },
  {
   "cell_type": "code",
   "execution_count": 374,
   "id": "e6a4f635",
   "metadata": {},
   "outputs": [
    {
     "data": {
      "text/plain": [
       "{'ResponseMetadata': {'RequestId': 'R6MQYN4P0BK74TXV',\n",
       "  'HostId': '7U9I708gkHwBr53leHde/TWDaP2vw7hszSLlns9Xf4rLBawA7DKaHXreTSWCbH/VJSTPq8a2qVI=',\n",
       "  'HTTPStatusCode': 200,\n",
       "  'HTTPHeaders': {'x-amz-id-2': '7U9I708gkHwBr53leHde/TWDaP2vw7hszSLlns9Xf4rLBawA7DKaHXreTSWCbH/VJSTPq8a2qVI=',\n",
       "   'x-amz-request-id': 'R6MQYN4P0BK74TXV',\n",
       "   'date': 'Mon, 24 Jan 2022 19:59:43 GMT',\n",
       "   'x-amz-version-id': 'MFGOAcCrS3cUInxETfxfV1N1uzpoueyC',\n",
       "   'x-amz-server-side-encryption': 'aws:kms',\n",
       "   'x-amz-server-side-encryption-aws-kms-key-id': 'arn:aws:kms:us-east-2:642344871054:key/b50764cd-f3a7-420e-92a4-a259917163ab',\n",
       "   'etag': '\"d2df80d58185ab66cc92eeb413cb1f9a\"',\n",
       "   'server': 'AmazonS3',\n",
       "   'content-length': '0'},\n",
       "  'RetryAttempts': 0},\n",
       " 'ETag': '\"d2df80d58185ab66cc92eeb413cb1f9a\"',\n",
       " 'ServerSideEncryption': 'aws:kms',\n",
       " 'VersionId': 'MFGOAcCrS3cUInxETfxfV1N1uzpoueyC',\n",
       " 'SSEKMSKeyId': 'arn:aws:kms:us-east-2:642344871054:key/b50764cd-f3a7-420e-92a4-a259917163ab'}"
      ]
     },
     "execution_count": 374,
     "metadata": {},
     "output_type": "execute_result"
    }
   ],
   "source": [
    "s3object_last.put(\n",
    "    Body=(bytes(run_metadata))\n",
    ")"
   ]
  }
 ],
 "metadata": {
  "kernelspec": {
   "display_name": "conda_python3",
   "language": "python",
   "name": "conda_python3"
  },
  "language_info": {
   "codemirror_mode": {
    "name": "ipython",
    "version": 3
   },
   "file_extension": ".py",
   "mimetype": "text/x-python",
   "name": "python",
   "nbconvert_exporter": "python",
   "pygments_lexer": "ipython3",
   "version": "3.6.13"
  }
 },
 "nbformat": 4,
 "nbformat_minor": 5
}
